{
  "nbformat": 4,
  "nbformat_minor": 0,
  "metadata": {
    "colab": {
      "provenance": [],
      "authorship_tag": "ABX9TyMzLBanil3fBxsvZsSSKjPB",
      "include_colab_link": true
    },
    "kernelspec": {
      "name": "python3",
      "display_name": "Python 3"
    },
    "language_info": {
      "name": "python"
    }
  },
  "cells": [
    {
      "cell_type": "markdown",
      "metadata": {
        "id": "view-in-github",
        "colab_type": "text"
      },
      "source": [
        "<a href=\"https://colab.research.google.com/github/Fatima2417/Assignments-_4/blob/main/Data_Driven_Python_Web.ipynb\" target=\"_parent\"><img src=\"https://colab.research.google.com/assets/colab-badge.svg\" alt=\"Open In Colab\"/></a>"
      ]
    },
    {
      "cell_type": "code",
      "execution_count": 1,
      "metadata": {
        "colab": {
          "base_uri": "https://localhost:8080/"
        },
        "id": "Ef6bp5C8gFR4",
        "outputId": "1a9bb703-c402-4333-d137-324f16ed0a76"
      },
      "outputs": [
        {
          "output_type": "stream",
          "name": "stdout",
          "text": [
            "\u001b[2K     \u001b[90m━━━━━━━━━━━━━━━━━━━━━━━━━━━━━━━━━━━━━━━━\u001b[0m \u001b[32m44.3/44.3 kB\u001b[0m \u001b[31m1.3 MB/s\u001b[0m eta \u001b[36m0:00:00\u001b[0m\n",
            "\u001b[2K   \u001b[90m━━━━━━━━━━━━━━━━━━━━━━━━━━━━━━━━━━━━━━━━\u001b[0m \u001b[32m9.8/9.8 MB\u001b[0m \u001b[31m29.7 MB/s\u001b[0m eta \u001b[36m0:00:00\u001b[0m\n",
            "\u001b[2K   \u001b[90m━━━━━━━━━━━━━━━━━━━━━━━━━━━━━━━━━━━━━━━━\u001b[0m \u001b[32m6.9/6.9 MB\u001b[0m \u001b[31m36.7 MB/s\u001b[0m eta \u001b[36m0:00:00\u001b[0m\n",
            "\u001b[2K   \u001b[90m━━━━━━━━━━━━━━━━━━━━━━━━━━━━━━━━━━━━━━━━\u001b[0m \u001b[32m79.1/79.1 kB\u001b[0m \u001b[31m3.2 MB/s\u001b[0m eta \u001b[36m0:00:00\u001b[0m\n",
            "\u001b[?25h"
          ]
        }
      ],
      "source": [
        "#here i installing a streamlit\n",
        "!pip install streamlit -q\n"
      ]
    },
    {
      "cell_type": "code",
      "source": [
        "# code for the simple website\n",
        "%%writefile app.py\n",
        "\n",
        "# imports important libraries with their alias\n",
        "import streamlit as st\n",
        "import pandas as pd\n",
        "import matplotlib.pyplot as plt\n",
        "import numpy as np\n",
        "\n",
        "st.title(\"Interactive Data Analysis Web App by FATIMA\")\n",
        "st.title(\"---------------------------------------------\")\n",
        "\n",
        "# Description of how the app works\n",
        "st.write(\"Welcome to the Interactive Data Analysis App! 🚀 Upload your CSV file to analyze and visualize the data easily.\")\n",
        "\n",
        "# file uploader section to allow the user to upload a CSV file\n",
        "uploaded_file = st.file_uploader(\"Upload your CSV file here (supports .csv format):\", type=[\"csv\"])\n",
        "\n",
        "if uploaded_file is not None:\n",
        "\n",
        "    # Read the uploaded CSV file into a pandas DataFrame\n",
        "    data = pd.read_csv(uploaded_file)\n",
        "\n",
        "    # display the first 5 rows of the datasets\n",
        "    st.write(\"Here's a preview of your dataset:\")\n",
        "    st.dataframe(data.head())\n",
        "\n",
        "    # it checks if value is missing then show it\n",
        "    st.write(\"Checking for missing values in your dataset:\")\n",
        "    missing_data = data.isnull().sum()\n",
        "    st.write(missing_data)\n",
        "\n",
        "    # here it shows a summary statistics\n",
        "    st.write(\"Summary statistics of the dataset:\")\n",
        "    st.write(data.describe())\n",
        "\n",
        "    # if numerical column exit then plot the first\n",
        "    numerical_data = data.select_dtypes(include=[np.number])\n",
        "\n",
        "    if numerical_data.shape[1] > 0:\n",
        "        st.write(\"Plotting the first numerical column from your data:\")\n",
        "\n",
        "        # here i create the plot\n",
        "        fig, ax = plt.subplots()\n",
        "        ax.plot(numerical_data.iloc[:, 0], label=\"Numerical Data\", color='b', linestyle='-', marker='o')\n",
        "\n",
        "        # adding labels and title for plot clarity\n",
        "        ax.set_xlabel(\"Index\")\n",
        "        ax.set_ylabel(numerical_data.columns[0])\n",
        "        ax.set_title(f\"Plot of {numerical_data.columns[0]}\")\n",
        "\n",
        "        # display the plot\n",
        "        st.pyplot(fig)\n",
        "\n",
        "    else:\n",
        "\n",
        "        st.write(\"No numerical columns found for plotting.\")\n",
        "\n",
        "else:\n",
        "\n",
        "    st.write(\"Please upload a CSV file to get started with your data analysis.\")\n",
        "\n",
        "st.write(\"Created by Fatima – Your Data Analysis Web App with Streamlit 🌟\")"
      ],
      "metadata": {
        "colab": {
          "base_uri": "https://localhost:8080/"
        },
        "id": "rcl59fZIgGoT",
        "outputId": "0669d1f3-84fc-4b29-fa5b-bc94f61e7058"
      },
      "execution_count": 3,
      "outputs": [
        {
          "output_type": "stream",
          "name": "stdout",
          "text": [
            "Writing app.py\n"
          ]
        }
      ]
    },
    {
      "cell_type": "code",
      "source": [
        "!pip install pyngrok"
      ],
      "metadata": {
        "colab": {
          "base_uri": "https://localhost:8080/"
        },
        "id": "e7CklKmdgokV",
        "outputId": "b39a5f54-4395-4811-ba3e-1e7cc89894e2"
      },
      "execution_count": 4,
      "outputs": [
        {
          "output_type": "stream",
          "name": "stdout",
          "text": [
            "Collecting pyngrok\n",
            "  Downloading pyngrok-7.2.3-py3-none-any.whl.metadata (8.7 kB)\n",
            "Requirement already satisfied: PyYAML>=5.1 in /usr/local/lib/python3.11/dist-packages (from pyngrok) (6.0.2)\n",
            "Downloading pyngrok-7.2.3-py3-none-any.whl (23 kB)\n",
            "Installing collected packages: pyngrok\n",
            "Successfully installed pyngrok-7.2.3\n"
          ]
        }
      ]
    },
    {
      "cell_type": "code",
      "source": [
        "from pyngrok import ngrok"
      ],
      "metadata": {
        "id": "aD28aHk1gwD4"
      },
      "execution_count": 5,
      "outputs": []
    },
    {
      "cell_type": "code",
      "source": [
        "ngrok.set_auth_token(\"2qWDZGxmmgkTKSllHOd5OQUhYG1_5QFSJzCHSqxYQZ8pNfkda\")"
      ],
      "metadata": {
        "id": "its1IAwVg1sm"
      },
      "execution_count": 8,
      "outputs": []
    },
    {
      "cell_type": "code",
      "source": [
        "from pyngrok import ngrok\n",
        "import os\n",
        "\n",
        "# it Kills previous tunnels\n",
        "ngrok.kill()\n",
        "\n",
        "# Start Streamlit app\n",
        "os.system(\"nohup streamlit run app.py --server.port 3030 &\")\n",
        "\n",
        "# Starting ngrok tunnel\n",
        "url = ngrok.connect(3030)\n",
        "print(\"Public URL:\", url)"
      ],
      "metadata": {
        "colab": {
          "base_uri": "https://localhost:8080/"
        },
        "id": "lBLtSCaShQhT",
        "outputId": "a6aef86a-a537-4452-e8a4-6dd5a30a0fb2"
      },
      "execution_count": 7,
      "outputs": [
        {
          "output_type": "stream",
          "name": "stdout",
          "text": [
            "Public URL: NgrokTunnel: \"https://570d-34-73-203-175.ngrok-free.app\" -> \"http://localhost:3030\"\n"
          ]
        }
      ]
    }
  ]
}