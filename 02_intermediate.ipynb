{
  "nbformat": 4,
  "nbformat_minor": 0,
  "metadata": {
    "colab": {
      "provenance": [],
      "authorship_tag": "ABX9TyMs0J4z3VVfg5GO4ZsvBA9h",
      "include_colab_link": true
    },
    "kernelspec": {
      "name": "python3",
      "display_name": "Python 3"
    },
    "language_info": {
      "name": "python"
    }
  },
  "cells": [
    {
      "cell_type": "markdown",
      "metadata": {
        "id": "view-in-github",
        "colab_type": "text"
      },
      "source": [
        "<a href=\"https://colab.research.google.com/github/Fatima2417/Assignments-_4/blob/main/02_intermediate.ipynb\" target=\"_parent\"><img src=\"https://colab.research.google.com/assets/colab-badge.svg\" alt=\"Open In Colab\"/></a>"
      ]
    },
    {
      "cell_type": "markdown",
      "source": [
        "# Control Flow for Console"
      ],
      "metadata": {
        "id": "3pFJ1cOqyvmZ"
      }
    },
    {
      "cell_type": "code",
      "source": [
        "import random\n",
        "\n",
        "# Constants\n",
        "NUM_ROUNDS = 5\n",
        "\n",
        "def main():\n",
        "    print(\"Welcome to the High-Low Game!\")\n",
        "    print(\"------------------------------------\")\n",
        "\n",
        "    # Initialiize the player's score\n",
        "    score = 0\n",
        "\n",
        "    # play the game for NUM ROUNDS\n",
        "    for round_number in range(1, NUM_ROUNDS + 1):\n",
        "        # generate random numbers for player and computer\n",
        "        player_number = random.randint(1, 100)\n",
        "        computer_number = random.randint(1, 100)\n",
        "\n",
        "        # Print out the current round and player's number\n",
        "        print(f\"Round {round_number}\")\n",
        "        print(f\"Your number is {player_number}\")\n",
        "\n",
        "        # get user's guess (higher or lower)\n",
        "        guess = input(\"Do you think your number is higher or lower than the computer's?: \").strip().lower()\n",
        "\n",
        "        # Check if the input is valid (either 'higher' or 'lower')\n",
        "        while guess not in [\"higher\", \"lower\"]:\n",
        "            guess = input(\"Please enter either 'higher' or 'lower': \").strip().lower()\n",
        "\n",
        "        # Determine if the guess is correct\n",
        "        if (guess == \"higher\" and player_number > computer_number) or (guess == \"lower\" and player_number < computer_number):\n",
        "            print(f\"You were right! The computer's number was {computer_number}\")\n",
        "            score += 1\n",
        "        else:\n",
        "            print(f\"Aww, that's incorrect. The computer's number was {computer_number}\")\n",
        "\n",
        "        #Print the current score after each round\n",
        "        print(f\"Your score is now {score}\\n\")\n",
        "\n",
        "    # game over, print final score and ending message\n",
        "    print(\"Thanks for playing!\")\n",
        "    print(f\"Your final score is: {score}\")\n",
        "\n",
        "    # conditional ending messages based on the players performance\n",
        "    if score == NUM_ROUNDS:\n",
        "        print(\"Wow! You played perfectly!\")\n",
        "    elif score >= NUM_ROUNDS // 2:\n",
        "        print(\"Good job, you played really well!\")\n",
        "    else:\n",
        "        print(\"Better luck next time!\")\n",
        "\n",
        "if __name__ == \"__main__\":\n",
        "    main()\n"
      ],
      "metadata": {
        "colab": {
          "base_uri": "https://localhost:8080/"
        },
        "id": "dXp-HMOUyyLD",
        "outputId": "9b6ed76a-dfa5-44d2-8da8-173154e51b81"
      },
      "execution_count": 2,
      "outputs": [
        {
          "output_type": "stream",
          "name": "stdout",
          "text": [
            "Welcome to the High-Low Game!\n",
            "------------------------------------\n",
            "Round 1\n",
            "Your number is 19\n",
            "Do you think your number is higher or lower than the computer's?: lower\n",
            "You were right! The computer's number was 65\n",
            "Your score is now 1\n",
            "\n",
            "Round 2\n",
            "Your number is 61\n",
            "Do you think your number is higher or lower than the computer's?: higher\n",
            "Aww, that's incorrect. The computer's number was 79\n",
            "Your score is now 1\n",
            "\n",
            "Round 3\n",
            "Your number is 23\n",
            "Do you think your number is higher or lower than the computer's?: lower\n",
            "You were right! The computer's number was 41\n",
            "Your score is now 2\n",
            "\n",
            "Round 4\n",
            "Your number is 71\n",
            "Do you think your number is higher or lower than the computer's?: lower\n",
            "You were right! The computer's number was 90\n",
            "Your score is now 3\n",
            "\n",
            "Round 5\n",
            "Your number is 9\n",
            "Do you think your number is higher or lower than the computer's?: lower\n",
            "You were right! The computer's number was 20\n",
            "Your score is now 4\n",
            "\n",
            "Thanks for playing!\n",
            "Your final score is: 4\n",
            "Good job, you played really well!\n"
          ]
        }
      ]
    },
    {
      "cell_type": "markdown",
      "source": [
        "# Intro to Python"
      ],
      "metadata": {
        "id": "sjxHWaTQ0pO5"
      }
    },
    {
      "cell_type": "code",
      "source": [
        "def calculate_weight_on_planet():\n",
        "    # Gravitational constants for each planet as a percentage of Earth's gravity\n",
        "    gravity_constants = {\n",
        "        'Mercury': 0.376,\n",
        "        'Venus': 0.889,\n",
        "        'Mars': 0.378,\n",
        "        'Jupiter': 2.360,\n",
        "        'Saturn': 1.081,\n",
        "        'Uranus': 0.815,\n",
        "        'Neptune': 1.140\n",
        "    }\n",
        "\n",
        "    # Prompt user for thheir weight on Earth\n",
        "    weight_earth = float(input(\"Enter a weight on Earth: \"))\n",
        "\n",
        "    planet = input(\"Enter a planet: \")\n",
        "\n",
        "    #check if the planet is valid\n",
        "    if planet in gravity_constants:\n",
        "        # Get the gravity constant for the selected planet\n",
        "        gravity = gravity_constants[planet]\n",
        "\n",
        "        # Calculate the weight on the selected planet\n",
        "        weight_planet = weight_earth * gravity\n",
        "\n",
        "        # print the result rounded to 2 decimal places\n",
        "        print(f\"The equivalent weight on {planet}: {round(weight_planet, 2)}\")\n",
        "    else:\n",
        "        print(\"Invalid planet name. Please enter a valid planet from the solar system.\")\n",
        "\n",
        "if __name__ == \"__main__\":\n",
        "    calculate_weight_on_planet()\n"
      ],
      "metadata": {
        "colab": {
          "base_uri": "https://localhost:8080/"
        },
        "id": "EHvqnilt0w5W",
        "outputId": "c12c53d4-8786-4ac5-fa65-7044abf8ee7c"
      },
      "execution_count": 3,
      "outputs": [
        {
          "output_type": "stream",
          "name": "stdout",
          "text": [
            "Enter a weight on Earth: 5\n",
            "Enter a planet: Mars\n",
            "The equivalent weight on Mars: 1.89\n"
          ]
        }
      ]
    },
    {
      "cell_type": "markdown",
      "source": [
        "# Lists and Dicts"
      ],
      "metadata": {
        "id": "Q-j4xhWH1o-f"
      }
    },
    {
      "cell_type": "code",
      "source": [
        "# Function to access an element from the list by index\n",
        "def access_element(lst, index):\n",
        "    try:\n",
        "        return lst[index]  # Try to return the element at the given index\n",
        "    except IndexError:\n",
        "        return \"Index out of range.\"  # Return an error message\n",
        "\n",
        "# Function to modify an element in the list at a specified index\n",
        "def modify_element(lst, index, new_value):\n",
        "    try:\n",
        "        lst[index] = new_value  # Try to modify the element at the given index\n",
        "        return lst\n",
        "    except IndexError:\n",
        "        return \"Index out of range.\"\n",
        "\n",
        "# Function to slice the list between a start and end index\n",
        "def slice_list(lst, start, end):\n",
        "    try:\n",
        "        return lst[start:end]  # Reeturn the sliced list from start to end index\n",
        "    except IndexError:\n",
        "        return \"Invalid indices.\"\n",
        "\n",
        "# main function for the index game\n",
        "def index_game():\n",
        "    lst = [1, 2, 3, 4, 5]  # ex list\n",
        "    print(\"Current list:\", lst)\n",
        "    print(\"Choose an operation: access, modify, slice\")\n",
        "    operation = input(\"Enter operation: \")\n",
        "\n",
        "    # Perform the chosen operation\n",
        "    if operation == \"access\":\n",
        "        index = int(input(\"Enter index to access: \"))\n",
        "        print(access_element(lst, index))\n",
        "    elif operation == \"modify\":\n",
        "        index = int(input(\"Enter index to modify: \"))  # ask for index to modify\n",
        "        new_value = input(\"Enter new value: \")\n",
        "        print(modify_element(lst, index, new_value))  # Modify the list and print the result\n",
        "    elif operation == \"slice\":\n",
        "        start = int(input(\"Enter start index: \"))\n",
        "        end = int(input(\"Enter end index: \"))\n",
        "        print(slice_list(lst, start, end))  # Slice the list and print the result\n",
        "    else:\n",
        "        print(\"Invalid operation.\")  # If an invalid operation is entered\n",
        "\n",
        "# Call the main game function to start the game\n",
        "index_game()\n"
      ],
      "metadata": {
        "colab": {
          "base_uri": "https://localhost:8080/"
        },
        "id": "GvDxP9aB1r-z",
        "outputId": "4647d0f5-ab83-4de3-a9c4-4790b35f15b0"
      },
      "execution_count": 4,
      "outputs": [
        {
          "output_type": "stream",
          "name": "stdout",
          "text": [
            "Current list: [1, 2, 3, 4, 5]\n",
            "Choose an operation: access, modify, slice\n",
            "Enter operation: access\n",
            "Enter index to access: 3\n",
            "4\n"
          ]
        }
      ]
    },
    {
      "cell_type": "code",
      "source": [
        "def main():\n",
        "      # frit list\n",
        "    fruit_lst = ['apple', 'banana', 'orange', 'grape', 'pineapple']\n",
        "\n",
        "    # length of the list\n",
        "    lst_length = len(fruit_lst)\n",
        "    print(f\"Length of the list: {lst_length}\")\n",
        "\n",
        "    # Add 'mango' at the end of the list\n",
        "    fruit_lst.append('mango')\n",
        "    print(\"Updated fruit list:\")\n",
        "    for fruit in fruit_lst:\n",
        "        print(fruit)  # Print each fruit in the updated list\n",
        "\n",
        "# Ensure this file runs as a script\n",
        "if __name__ == '__main__':\n",
        "    main()\n"
      ],
      "metadata": {
        "colab": {
          "base_uri": "https://localhost:8080/"
        },
        "id": "JnCZh4gZ21Sk",
        "outputId": "ce0e3dcd-b349-420f-eee8-72e07b171668"
      },
      "execution_count": 6,
      "outputs": [
        {
          "output_type": "stream",
          "name": "stdout",
          "text": [
            "Length of the list: 5\n",
            "Updated fruit list:\n",
            "apple\n",
            "banana\n",
            "orange\n",
            "grape\n",
            "pineapple\n",
            "mango\n"
          ]
        }
      ]
    }
  ]
}