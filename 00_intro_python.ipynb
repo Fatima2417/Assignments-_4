{
  "nbformat": 4,
  "nbformat_minor": 0,
  "metadata": {
    "colab": {
      "provenance": [],
      "authorship_tag": "ABX9TyPfuws+mVkvloQUd/8+O39x",
      "include_colab_link": true
    },
    "kernelspec": {
      "name": "python3",
      "display_name": "Python 3"
    },
    "language_info": {
      "name": "python"
    }
  },
  "cells": [
    {
      "cell_type": "markdown",
      "metadata": {
        "id": "view-in-github",
        "colab_type": "text"
      },
      "source": [
        "<a href=\"https://colab.research.google.com/github/Fatima2417/Assignments-_4/blob/main/00_intro_python.ipynb\" target=\"_parent\"><img src=\"https://colab.research.google.com/assets/colab-badge.svg\" alt=\"Open In Colab\"/></a>"
      ]
    },
    {
      "cell_type": "markdown",
      "source": [
        "#01_add_two_numbers\n"
      ],
      "metadata": {
        "id": "NxegQiIsFswU"
      }
    },
    {
      "cell_type": "code",
      "source": [
        "def main():\n",
        "    print(\"Let's add two numbers together!\")\n",
        "\n",
        "    first = input(\"Enter the first number: \")\n",
        "    first = int(first)\n",
        "\n",
        "    second = input(\"Enter the second number: \")\n",
        "    second = int(second)\n",
        "\n",
        "    # calculating the sum\n",
        "    result = first + second\n",
        "\n",
        "    # showing the result\n",
        "    print(\"Sum of the numbers is:\", result)\n",
        "\n",
        "\n",
        "# it calls the main function\n",
        "if __name__ == '__main__':\n",
        "    main()\n"
      ],
      "metadata": {
        "colab": {
          "base_uri": "https://localhost:8080/"
        },
        "id": "zhLezdwwF4mM",
        "outputId": "94b684a4-5be8-4b65-a165-d2e7be70d024"
      },
      "execution_count": null,
      "outputs": [
        {
          "output_type": "stream",
          "name": "stdout",
          "text": [
            "Let's add two numbers together!\n",
            "Enter the first number: 30\n",
            "Enter the second number: 70\n",
            "Sum of the numbers is: 100\n"
          ]
        }
      ]
    },
    {
      "cell_type": "markdown",
      "source": [
        "# 02_agreement_bot\n"
      ],
      "metadata": {
        "id": "dDPefqL9NMsH"
      }
    },
    {
      "cell_type": "code",
      "source": [
        "def main():\n",
        "    # asks user about their favorite animal\n",
        "    animal = input(\"What's your favorite animal? \")\n",
        "\n",
        "    print(\"My favorite animal is also \" + animal + \"!\")\n",
        "\n",
        "\n",
        "# this line calls the main function\n",
        "if __name__ == '__main__':\n",
        "    main()\n"
      ],
      "metadata": {
        "colab": {
          "base_uri": "https://localhost:8080/"
        },
        "id": "-lI7W5w0e1T8",
        "outputId": "65172121-2608-4acd-9343-65ae0d151eb1"
      },
      "execution_count": null,
      "outputs": [
        {
          "output_type": "stream",
          "name": "stdout",
          "text": [
            "What's your favorite animal? cat and dog\n",
            "My favorite animal is also cat and dog!\n"
          ]
        }
      ]
    },
    {
      "cell_type": "markdown",
      "source": [
        "# 03_fahrenheit_to_celsius."
      ],
      "metadata": {
        "id": "PiSJnIlwgNnx"
      }
    },
    {
      "cell_type": "code",
      "source": [
        "def main():\n",
        "    # asking user for temperature in Fahrenheit\n",
        "    fahrenheit = input(\"Enter temperature in Fahrenheit: \")\n",
        "    fahrenheit = float(fahrenheit)\n",
        "\n",
        "    # for converting to Celsius\n",
        "    celsius = (fahrenheit - 32) * 5.0 / 9.0\n",
        "\n",
        "    print(\"Temperature:\", str(fahrenheit) + \"F =\", str(celsius) + \"C\")\n",
        "\n",
        "\n",
        "# this line calls the main function\n",
        "if __name__ == '__main__':\n",
        "    main()\n"
      ],
      "metadata": {
        "colab": {
          "base_uri": "https://localhost:8080/"
        },
        "id": "ocIOzkR6gepg",
        "outputId": "a8bf9cd3-e035-45d5-939e-cd5a1060117c"
      },
      "execution_count": null,
      "outputs": [
        {
          "output_type": "stream",
          "name": "stdout",
          "text": [
            "Enter temperature in Fahrenheit: 15\n",
            "Temperature: 15.0F = -9.444444444444445C\n"
          ]
        }
      ]
    },
    {
      "cell_type": "markdown",
      "source": [
        "# 04_how_old_are_they."
      ],
      "metadata": {
        "id": "miklzaCZgmEe"
      }
    },
    {
      "cell_type": "code",
      "source": [
        "def main():\n",
        "    # Anton's age is given\n",
        "    anton = 21\n",
        "\n",
        "    # Beth is 6 years older than Anton\n",
        "    beth = anton + 6\n",
        "\n",
        "    # Chen is 20 years older than Beth\n",
        "    chen = beth + 20\n",
        "\n",
        "    # Drew is as old as Chen's age plus Anton's age\n",
        "    drew = chen + anton\n",
        "\n",
        "    # Ethan is the same age as Chen\n",
        "    ethan = chen\n",
        "\n",
        "    # names and ages\n",
        "    print(\"Anton is \" + str(anton))\n",
        "    print(\"Beth is \" + str(beth))\n",
        "    print(\"Chen is \" + str(chen))\n",
        "    print(\"Drew is \" + str(drew))\n",
        "    print(\"Ethan is \" + str(ethan))\n",
        "\n",
        "\n",
        "# this line calls the main function\n",
        "if __name__ == '__main__':\n",
        "    main()\n"
      ],
      "metadata": {
        "colab": {
          "base_uri": "https://localhost:8080/"
        },
        "id": "S10v5rpFgxbw",
        "outputId": "a4041851-25e7-4a12-b1e6-4d99b7a7c7f3"
      },
      "execution_count": null,
      "outputs": [
        {
          "output_type": "stream",
          "name": "stdout",
          "text": [
            "Anton is 21\n",
            "Beth is 27\n",
            "Chen is 47\n",
            "Drew is 68\n",
            "Ethan is 47\n"
          ]
        }
      ]
    },
    {
      "cell_type": "markdown",
      "source": [
        "# 05_triangle_perimeter"
      ],
      "metadata": {
        "id": "rPs4qmVthUaU"
      }
    },
    {
      "cell_type": "code",
      "source": [
        "def main():\n",
        "    # asking user for lengths of all 3 sides\n",
        "    side1 = float(input(\"What is the length of side 1? \"))\n",
        "    side2 = float(input(\"What is the length of side 2? \"))\n",
        "    side3 = float(input(\"What is the length of side 3? \"))\n",
        "\n",
        "    perimeter = side1 + side2 + side3\n",
        "\n",
        "    print(\"The perimeter of the triangle is \" + str(perimeter))\n",
        "\n",
        "\n",
        "# this line calls the main function\n",
        "if __name__ == '__main__':\n",
        "    main()\n"
      ],
      "metadata": {
        "colab": {
          "base_uri": "https://localhost:8080/"
        },
        "id": "uF__noC8hhap",
        "outputId": "1fd1d42f-369a-4798-f5fe-05ada2516a6c"
      },
      "execution_count": null,
      "outputs": [
        {
          "output_type": "stream",
          "name": "stdout",
          "text": [
            "What is the length of side 1? 4\n",
            "What is the length of side 2? 6\n",
            "What is the length of side 3? 4\n",
            "The perimeter of the triangle is 14.0\n"
          ]
        }
      ]
    },
    {
      "cell_type": "markdown",
      "source": [
        "# 06_square_number"
      ],
      "metadata": {
        "id": "S6PTZScXhqQI"
      }
    },
    {
      "cell_type": "code",
      "source": [
        "def main():\n",
        "    # ask user for a number\n",
        "    num = float(input(\"Type a number to see its square: \"))\n",
        "\n",
        "    square = num ** 2\n",
        "\n",
        "    print(str(num) + \" squared is \" + str(square))\n",
        "\n",
        "\n",
        "# this line calls the main function\n",
        "if __name__ == '__main__':\n",
        "    main()\n"
      ],
      "metadata": {
        "colab": {
          "base_uri": "https://localhost:8080/"
        },
        "id": "pBInnfpQhzOI",
        "outputId": "91ee52c8-a4aa-4b76-bd9c-be63e528c400"
      },
      "execution_count": null,
      "outputs": [
        {
          "output_type": "stream",
          "name": "stdout",
          "text": [
            "Type a number to see its square: 6\n",
            "6.0 squared is 36.0\n"
          ]
        }
      ]
    }
  ]
}