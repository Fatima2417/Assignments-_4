{
  "nbformat": 4,
  "nbformat_minor": 0,
  "metadata": {
    "colab": {
      "provenance": [],
      "authorship_tag": "ABX9TyNIXlqobFX16ummHRBTCK06",
      "include_colab_link": true
    },
    "kernelspec": {
      "name": "python3",
      "display_name": "Python 3"
    },
    "language_info": {
      "name": "python"
    }
  },
  "cells": [
    {
      "cell_type": "markdown",
      "metadata": {
        "id": "view-in-github",
        "colab_type": "text"
      },
      "source": [
        "<a href=\"https://colab.research.google.com/github/Fatima2417/Assignments-_4/blob/main/05_loops_control_flow.ipynb\" target=\"_parent\"><img src=\"https://colab.research.google.com/assets/colab-badge.svg\" alt=\"Open In Colab\"/></a>"
      ]
    },
    {
      "cell_type": "markdown",
      "source": [
        "# 00_guess_my_number"
      ],
      "metadata": {
        "id": "KVux14AOUYxA"
      }
    },
    {
      "cell_type": "code",
      "source": [
        "import random\n",
        "\n",
        "def main():\n",
        "    #generate the secret number randomly between 1 and 99\n",
        "    secret_number = random.randint(1, 99)\n",
        "\n",
        "    print(\"I am thinking of a number between 1 and 99...\")\n",
        "\n",
        "    # asks the user for their first guess\n",
        "    guess = int(input(\"Enter a guess: \"))\n",
        "\n",
        "    #loop until the user guesses correctly to write\n",
        "    while guess != secret_number:\n",
        "        # Check if the guess is too low or too high\n",
        "        if guess < secret_number:\n",
        "            print(\"Your guess is too low\")\n",
        "        else:\n",
        "            print(\"Your guess is too high\")\n",
        "\n",
        "        # Ask for a new guess\n",
        "        guess = int(input(\"Enter a new guess: \"))\n",
        "\n",
        "    # if the guess is correct , print the success message\n",
        "    print(\"Congrats! The number was: \" + str(secret_number))\n",
        "\n",
        "if __name__ == '__main__':\n",
        "    main()\n"
      ],
      "metadata": {
        "colab": {
          "base_uri": "https://localhost:8080/"
        },
        "id": "iCrj_gO4UftC",
        "outputId": "8f040e1f-c670-45fb-9913-e9194f6eb730"
      },
      "execution_count": 2,
      "outputs": [
        {
          "output_type": "stream",
          "name": "stdout",
          "text": [
            "I am thinking of a number between 1 and 99...\n",
            "Enter a guess: 50\n",
            "Your guess is too low\n",
            "Enter a new guess: 80\n",
            "Your guess is too high\n",
            "Enter a new guess: 75\n",
            "Your guess is too high\n",
            "Enter a new guess: 64\n",
            "Your guess is too low\n",
            "Enter a new guess: 68\n",
            "Your guess is too low\n",
            "Enter a new guess: 70\n",
            "Your guess is too low\n",
            "Enter a new guess: 75\n",
            "Your guess is too high\n",
            "Enter a new guess: 73\n",
            "Congrats! The number was: 73\n"
          ]
        }
      ]
    },
    {
      "cell_type": "markdown",
      "source": [
        "# 01_fibonacci"
      ],
      "metadata": {
        "id": "TiYseBjSWTN6"
      }
    },
    {
      "cell_type": "code",
      "source": [
        "\n",
        "MAX_TERM_VALUE : int = 10000  # Maximum value of Fibonacci terms to print\n",
        "\n",
        "def main():\n",
        "    curr_term = 0  # The 0th Fibonacci Number\n",
        "\n",
        "    next_term = 1  # The 1st Fibonacci Number\n",
        "\n",
        "    # Loop to print Fibonacci terms until they exceed MAX_TERM_VALUE\n",
        "    while curr_term <= MAX_TERM_VALUE:\n",
        "        print(curr_term)  # Print the current Fibonacci term\n",
        "        term_after_next = curr_term + next_term  # Calculate the next term\n",
        "\n",
        "        curr_term = next_term  # Updating the current term\n",
        "\n",
        "        next_term = term_after_next  # Updating the next term\n",
        "\n",
        "# Calling the main function to run the program\n",
        "if __name__ == '__main__':\n",
        "    main()\n"
      ],
      "metadata": {
        "colab": {
          "base_uri": "https://localhost:8080/"
        },
        "id": "K8QnPzukWZy-",
        "outputId": "d588085f-0d9f-4979-d177-17c36bbbb407"
      },
      "execution_count": 3,
      "outputs": [
        {
          "output_type": "stream",
          "name": "stdout",
          "text": [
            "0\n",
            "1\n",
            "1\n",
            "2\n",
            "3\n",
            "5\n",
            "8\n",
            "13\n",
            "21\n",
            "34\n",
            "55\n",
            "89\n",
            "144\n",
            "233\n",
            "377\n",
            "610\n",
            "987\n",
            "1597\n",
            "2584\n",
            "4181\n",
            "6765\n"
          ]
        }
      ]
    },
    {
      "cell_type": "markdown",
      "source": [
        "# 02_print_events"
      ],
      "metadata": {
        "id": "GP0vUR8-Xhw1"
      }
    },
    {
      "cell_type": "code",
      "source": [
        "def main():\n",
        "    # This for-loop starts at 0 and counts up to 19  (for a total of 20 numbers)\n",
        "\n",
        "    for i in range(20):\n",
        "        print(i * 2)  # Prints each even number\n",
        "\n",
        "# Call the main function when the program is executed\n",
        "if __name__ == \"__main__\":\n",
        "    main()\n"
      ],
      "metadata": {
        "colab": {
          "base_uri": "https://localhost:8080/"
        },
        "id": "kfJAHufwX344",
        "outputId": "d74e84f3-6572-4616-db8a-8dc4330b95e1"
      },
      "execution_count": 4,
      "outputs": [
        {
          "output_type": "stream",
          "name": "stdout",
          "text": [
            "0\n",
            "2\n",
            "4\n",
            "6\n",
            "8\n",
            "10\n",
            "12\n",
            "14\n",
            "16\n",
            "18\n",
            "20\n",
            "22\n",
            "24\n",
            "26\n",
            "28\n",
            "30\n",
            "32\n",
            "34\n",
            "36\n",
            "38\n"
          ]
        }
      ]
    },
    {
      "cell_type": "markdown",
      "source": [
        "# 03_wholesome_machine"
      ],
      "metadata": {
        "id": "ZtxQx1BaYCu1"
      }
    },
    {
      "cell_type": "code",
      "source": [
        "AFFIRMATION = \"I am capable of doing anything I put my mind to.\"\n",
        "\n",
        "# function to type same affirrmation until they erite the correct\n",
        "def main():\n",
        "    print(\"Please type the following affirmation: \" + AFFIRMATION)\n",
        "\n",
        "    user_feedback = input()\n",
        "\n",
        "    while user_feedback != AFFIRMATION:\n",
        "        print(\"That was not the affirmation.\")\n",
        "\n",
        "        print(\"Please type the following affirmation: \" + AFFIRMATION)\n",
        "\n",
        "\n",
        "        user_feedback = input()\n",
        "\n",
        "    print(\"That's right! :)\")\n",
        "\n",
        "if __name__ == '__main__':\n",
        "    main()\n"
      ],
      "metadata": {
        "colab": {
          "base_uri": "https://localhost:8080/"
        },
        "id": "7vbsdUDmYUKP",
        "outputId": "b8689ae4-9e0a-435a-bad1-52ec1bb70cb1"
      },
      "execution_count": 8,
      "outputs": [
        {
          "output_type": "stream",
          "name": "stdout",
          "text": [
            "Please type the following affirmation: I am capable of doing anything I put my mind to.\n",
            "I am capable of doing anything I put my mind to.\n",
            "That's right! :)\n"
          ]
        }
      ]
    },
    {
      "cell_type": "markdown",
      "source": [
        "# 04_liftoff"
      ],
      "metadata": {
        "id": "y3QR9hKnZIYr"
      }
    },
    {
      "cell_type": "code",
      "source": [
        "def main():\n",
        "    for i in range(10, 0, -1):  # Countdown from 10 to 1\n",
        "        print(i)\n",
        "    print(\"Liftofffff!\")  # Final message\n",
        "\n",
        "if __name__ == '__main__':\n",
        "    main()\n"
      ],
      "metadata": {
        "colab": {
          "base_uri": "https://localhost:8080/"
        },
        "id": "tT5jw3xeZNp-",
        "outputId": "18c2a5ee-aa6c-4c96-d918-5de4c33efbcf"
      },
      "execution_count": 9,
      "outputs": [
        {
          "output_type": "stream",
          "name": "stdout",
          "text": [
            "10\n",
            "9\n",
            "8\n",
            "7\n",
            "6\n",
            "5\n",
            "4\n",
            "3\n",
            "2\n",
            "1\n",
            "Liftofffff!\n"
          ]
        }
      ]
    },
    {
      "cell_type": "markdown",
      "source": [
        "# 05_double_it"
      ],
      "metadata": {
        "id": "iOY8WucAZyn2"
      }
    },
    {
      "cell_type": "code",
      "source": [
        "def main():\n",
        "    # Ask the user to enter a number\n",
        "    curr_value = int(input(\"Enter a number: \"))\n",
        "\n",
        "    # Continue doubling the value until it is 100 or greater\n",
        "    while curr_value < 100:\n",
        "        curr_value = curr_value * 2\n",
        "\n",
        "        print(curr_value)  # Prints the doubled value after each step\n",
        "\n",
        "if __name__ == '__main__':\n",
        "    main()\n"
      ],
      "metadata": {
        "colab": {
          "base_uri": "https://localhost:8080/"
        },
        "id": "si0VO11MZ0fc",
        "outputId": "e6eb30e8-d6c5-44ab-baee-2ce4c84097b1"
      },
      "execution_count": 11,
      "outputs": [
        {
          "output_type": "stream",
          "name": "stdout",
          "text": [
            "Enter a number: 1\n",
            "2\n",
            "4\n",
            "8\n",
            "16\n",
            "32\n",
            "64\n",
            "128\n"
          ]
        }
      ]
    }
  ]
}