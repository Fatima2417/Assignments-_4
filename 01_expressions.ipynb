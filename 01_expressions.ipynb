{
  "nbformat": 4,
  "nbformat_minor": 0,
  "metadata": {
    "colab": {
      "provenance": [],
      "authorship_tag": "ABX9TyOiyRSMgbkABrDrpp/gnNZi",
      "include_colab_link": true
    },
    "kernelspec": {
      "name": "python3",
      "display_name": "Python 3"
    },
    "language_info": {
      "name": "python"
    }
  },
  "cells": [
    {
      "cell_type": "markdown",
      "metadata": {
        "id": "view-in-github",
        "colab_type": "text"
      },
      "source": [
        "<a href=\"https://colab.research.google.com/github/Fatima2417/Assignments-_4/blob/main/01_expressions.ipynb\" target=\"_parent\"><img src=\"https://colab.research.google.com/assets/colab-badge.svg\" alt=\"Open In Colab\"/></a>"
      ]
    },
    {
      "cell_type": "markdown",
      "source": [
        "# 01_dicesimulator"
      ],
      "metadata": {
        "id": "ZcOijVjtqECM"
      }
    },
    {
      "cell_type": "code",
      "source": [
        "import random\n",
        "\n",
        "num_sides ES= 6\n",
        "\n",
        "def roll_dice():\n",
        "    die1 = random.randint(1, num_sides)\n",
        "    die2 = random.randint(1, num_sides)\n",
        "    total = die1 + die2\n",
        "    print(\"Total of two dice:\", total)\n",
        "\n",
        "def main():\n",
        "    die1 = 10\n",
        "    print(\"die1 in main() starts as:\", die1)\n",
        "    roll_dice()\n",
        "    roll_dice()\n",
        "    roll_dice()\n",
        "    print(\"die1 in main() is:\", die1)\n",
        "\n",
        "if __name__ == '__main__':\n",
        "    main()\n"
      ],
      "metadata": {
        "colab": {
          "base_uri": "https://localhost:8080/"
        },
        "id": "Qn-sLcgMqEdl",
        "outputId": "c2f35456-86eb-49b1-baa6-9aa1345327c4"
      },
      "execution_count": null,
      "outputs": [
        {
          "output_type": "stream",
          "name": "stdout",
          "text": [
            "die1 in main() starts as: 10\n",
            "Total of two dice: 10\n",
            "Total of two dice: 6\n",
            "Total of two dice: 11\n",
            "die1 in main() is: 10\n"
          ]
        }
      ]
    },
    {
      "cell_type": "markdown",
      "source": [
        "# 02_e=mc2"
      ],
      "metadata": {
        "id": "z0x6-VTMq6iS"
      }
    },
    {
      "cell_type": "code",
      "source": [
        "C = 299792458  # speed of light in m/s\n",
        "\n",
        "def main():\n",
        "    mass = float(input(\"Enter kilos of mass: \"))\n",
        "    energy = mass * (C ** 2)\n",
        "\n",
        "    print(\"e = m * C^2...\")\n",
        "    print(\"m = \" + str(mass) + \" kg\")\n",
        "    print(\"C = \" + str(C) + \" m/s\")\n",
        "    print(str(energy) + \" joulees of energy!\")\n",
        "\n",
        "if __name__ == '__main__':\n",
        "    main()\n"
      ],
      "metadata": {
        "id": "YVE9vVAfq95k",
        "colab": {
          "base_uri": "https://localhost:8080/"
        },
        "outputId": "5937f61f-de48-404f-b383-f840e30a9f1d"
      },
      "execution_count": null,
      "outputs": [
        {
          "output_type": "stream",
          "name": "stdout",
          "text": [
            "Enter kilos of mass: 33\n",
            "e = m * C^2...\n",
            "m = 33.0 kg\n",
            "C = 299792458 m/s\n",
            "2.965892089831498e+18 joules of energy!\n"
          ]
        }
      ]
    },
    {
      "cell_type": "markdown",
      "source": [
        "# 03_feet_to_inches"
      ],
      "metadata": {
        "id": "02bFDGa_rXUW"
      }
    },
    {
      "cell_type": "code",
      "source": [
        "# 1 foot is equals to 12 inches\n",
        "inches_in_foot = 12\n",
        "\n",
        "def main():\n",
        "    feet = float(input(\"Enter number of feet: \"))\n",
        "    inches = feet * inches_in_foot\n",
        "    print(\"That is\", inches, \"inches!\")\n",
        "\n",
        "if __name__ == '__main__':\n",
        "    main()\n"
      ],
      "metadata": {
        "id": "30uwjCqyrtnt",
        "colab": {
          "base_uri": "https://localhost:8080/"
        },
        "outputId": "14852e4d-8fd9-4421-df90-5d37d45880ac"
      },
      "execution_count": null,
      "outputs": [
        {
          "output_type": "stream",
          "name": "stdout",
          "text": [
            "Enter number of feet: 10\n",
            "That is 120.0 inches!\n"
          ]
        }
      ]
    },
    {
      "cell_type": "markdown",
      "source": [
        "# 04_pythagorean_theorem."
      ],
      "metadata": {
        "id": "6qLHSQ4Dr06y"
      }
    },
    {
      "cell_type": "code",
      "source": [
        "import math  # for use the sqrt function\n",
        "\n",
        "def main():\n",
        "    ab = float(input(\"Enter the length of AB: \"))\n",
        "    ac = float(input(\"Enter the length of AC: \"))\n",
        "    bc = math.sqrt(ab**2 + ac**2)\n",
        "\n",
        "    print(\"The length of BC 'the hypotenuse' is:\", bc)\n",
        "\n",
        "if __name__ == '__main__':\n",
        "    main()\n"
      ],
      "metadata": {
        "id": "Wl3ofpcar6O-",
        "colab": {
          "base_uri": "https://localhost:8080/"
        },
        "outputId": "1a187d4d-72de-4dca-beaa-d1a3c2bc8620"
      },
      "execution_count": null,
      "outputs": [
        {
          "output_type": "stream",
          "name": "stdout",
          "text": [
            "Enter the length of AB: 12\n",
            "Enter the length of AC: 7\n",
            "The length of BC (the hypotenuse) is: 13.892443989449804\n"
          ]
        }
      ]
    },
    {
      "cell_type": "markdown",
      "source": [
        "# 05_remainder_division"
      ],
      "metadata": {
        "id": "7ab3N6l0sL9C"
      }
    },
    {
      "cell_type": "code",
      "source": [
        "def main():\n",
        "    # take the numbers to divide\n",
        "    dividend = int(input(\"Please enter an integer to be divided: \"))\n",
        "    divisor = int(input(\"Please enter an integer to divide by: \"))\n",
        "\n",
        "    quotient = dividend // divisor\n",
        "    remainder = dividend % divisor\n",
        "\n",
        "    print(f\"The result of this division is {quotient} with a remainder of {remainder}\")\n",
        "\n",
        "if __name__ == '__main__':\n",
        "    main()\n"
      ],
      "metadata": {
        "id": "DJyBg5X_sQMc",
        "colab": {
          "base_uri": "https://localhost:8080/"
        },
        "outputId": "d3b47644-f68e-4d27-8050-02ca49b4268c"
      },
      "execution_count": null,
      "outputs": [
        {
          "output_type": "stream",
          "name": "stdout",
          "text": [
            "Please enter an integer to be divided: 4\n",
            "Please enter an integer to divide by: 2\n",
            "The result of this division is 2 with a remainder of 0\n"
          ]
        }
      ]
    },
    {
      "cell_type": "markdown",
      "source": [
        "# 06_rolldice"
      ],
      "metadata": {
        "id": "etL7azN9snwD"
      }
    },
    {
      "cell_type": "code",
      "source": [
        "# Import the random library to generate the random nimbers for die\n",
        "import random\n",
        "\n",
        "\n",
        "NUM_SIDES: int = 6\n",
        "\n",
        "def main():\n",
        "    #  Rolls die\n",
        "    die1: int = random.randint(1, NUM_SIDES)\n",
        "    die2: int = random.randint(1, NUM_SIDES)\n",
        "\n",
        "    # Get their total\n",
        "    total: int = die1 + die2\n",
        "\n",
        "    # print out the results\n",
        "    print(\"Dice have\", NUM_SIDES, \"sides each.\")\n",
        "    print(\"First die:\", die1)\n",
        "    print(\"Second die:\", die2)\n",
        "    print(\"Total of two dice:\", total)\n",
        "\n",
        "\n",
        "if __name__ == '__main__':\n",
        "    main()\n"
      ],
      "metadata": {
        "id": "iSHkoS2usqwv",
        "colab": {
          "base_uri": "https://localhost:8080/"
        },
        "outputId": "52423b77-3d88-4c85-eebf-46a85aea467b"
      },
      "execution_count": null,
      "outputs": [
        {
          "output_type": "stream",
          "name": "stdout",
          "text": [
            "Dice have 6 sides each.\n",
            "First die: 2\n",
            "Second die: 2\n",
            "Total of two dice: 4\n"
          ]
        }
      ]
    },
    {
      "cell_type": "markdown",
      "source": [
        "# **07_seconds_in_year**"
      ],
      "metadata": {
        "id": "j3Y08Wx_s30P"
      }
    },
    {
      "cell_type": "code",
      "source": [
        "# imp info for the function\n",
        "DAYS_PER_YEAR: int = 365\n",
        "HOURS_PER_DAY: int = 24\n",
        "MIN_PER_HOUR: int = 60\n",
        "SEC_PER_MIN: int = 60\n",
        "\n",
        "def main():\n",
        "    print(\"There are \" + str(DAYS_PER_YEAR * HOURS_PER_DAY * MIN_PER_HOUR * SEC_PER_MIN) + \" seconds in a year!\")\n",
        "\n",
        "\n",
        "if __name__ == '__main__':\n",
        "    main()\n"
      ],
      "metadata": {
        "id": "RkfGoYl4tDLV",
        "colab": {
          "base_uri": "https://localhost:8080/"
        },
        "outputId": "ba6a4689-da54-4715-fbe0-065423ef551a"
      },
      "execution_count": null,
      "outputs": [
        {
          "output_type": "stream",
          "name": "stdout",
          "text": [
            "There are 31536000 seconds in a year!\n"
          ]
        }
      ]
    },
    {
      "cell_type": "markdown",
      "source": [
        "# 08_tiny_mad_lib"
      ],
      "metadata": {
        "id": "eYj1KVtCtfOH"
      }
    },
    {
      "cell_type": "code",
      "source": [
        "SENTENCE_START: str = \"I \"\n",
        "\n",
        "def main():\n",
        "    # Get the three inputs from the user to make the madlib to comp the sentence\n",
        "    adjective: str = input(\"Please type an adjective and press enter. \")\n",
        "    noun: str = input(\"Please type a noun and press enter. \")\n",
        "    verb: str = input(\"Please type a verb and press enter. \")\n",
        "\n",
        "    print(SENTENCE_START + adjective + \" \" + noun + \" \" + verb + \"!\")\n",
        "\n",
        "if __name__ == '__main__':\n",
        "    main()\n"
      ],
      "metadata": {
        "id": "V5wL80SGt4vJ",
        "colab": {
          "base_uri": "https://localhost:8080/"
        },
        "outputId": "3d070e0e-0d4f-4da3-8d81-6a0dc12769fb"
      },
      "execution_count": null,
      "outputs": [
        {
          "output_type": "stream",
          "name": "stdout",
          "text": [
            "Please type an adjective and press enter. love\n",
            "Please type a noun and press enter. cute\n",
            "Please type a verb and press enter. cats\n",
            "I love cute cats!\n"
          ]
        }
      ]
    }
  ]
}