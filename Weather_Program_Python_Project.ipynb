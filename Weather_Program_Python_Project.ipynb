{
  "nbformat": 4,
  "nbformat_minor": 0,
  "metadata": {
    "colab": {
      "provenance": [],
      "authorship_tag": "ABX9TyM+ikTlebY78mKLNF4SwGAS",
      "include_colab_link": true
    },
    "kernelspec": {
      "name": "python3",
      "display_name": "Python 3"
    },
    "language_info": {
      "name": "python"
    }
  },
  "cells": [
    {
      "cell_type": "markdown",
      "metadata": {
        "id": "view-in-github",
        "colab_type": "text"
      },
      "source": [
        "<a href=\"https://colab.research.google.com/github/Fatima2417/Assignments-_4/blob/main/Weather_Program_Python_Project.ipynb\" target=\"_parent\"><img src=\"https://colab.research.google.com/assets/colab-badge.svg\" alt=\"Open In Colab\"/></a>"
      ]
    },
    {
      "cell_type": "code",
      "source": [
        "# for taking that API key from your system\n",
        "import os\n",
        "\n",
        "# used for the weather API functioning\n",
        "import requests\n",
        "\n",
        "# Function to fetch weather info for any city\n",
        "def get_weather(city):\n",
        "    key = os.getenv(\"MY_WEATHER_API_KEY\")  # get the secret key from env\n",
        "\n",
        "    if not key:\n",
        "        print(\"Where’s the API key? Set it up first to check the wheather!\")  # missing key\n",
        "        return\n",
        "\n",
        "    url = \"http://api.openweathermap.org/data/2.5/weather\"  # base URL for the weather API\n",
        "    params = {\n",
        "        \"q\": city,\n",
        "        \"appid\": key,\n",
        "        \"units\": \"metric\"\n",
        "    }\n",
        "\n",
        "\n",
        "    try:\n",
        "        res = requests.get(url, params=params)  # sending the request to the API\n",
        "        info = res.json()  # taking the data in JSON style\n",
        "\n",
        "        if res.status_code == 200:\n",
        "            temp = info['main']['temp']\n",
        "            condition = info['weather'][0]['description']\n",
        "            humidity = info['main']['humidity']\n",
        "            wind = info['wind']['speed']\n",
        "\n",
        "            # now showing it all inn a good manner\n",
        "            print(f\"\\n{city.title()} Weather Report\")\n",
        "\n",
        "            print(f\"🌡️ Temp: {temp}°C\")\n",
        "\n",
        "            print(f\"🌦️ Sky: {condition}\")\n",
        "\n",
        "            print(f\"💧 Humidity: {humidity}%\")\n",
        "\n",
        "            print(f\"🌬️ Wind: {wind} m/s\")\n",
        "\n",
        "        elif info.get(\"cod\") == \"404\":\n",
        "            print(\"Can’t find that city. Try spelling it differently?\")\n",
        "\n",
        "        elif info.get(\"cod\") == \"401\":\n",
        "            print(\"API key looks wrong. Check it again.\")\n",
        "\n",
        "        else:\n",
        "            print(\"error detectd, something’s off. Error:\", info.get(\"message\", \"No details.\"))\n",
        "\n",
        "    except Exception as e:\n",
        "        print(\"Please check the app. Something crashed:\", e)  # if it crashed or any trouble\n",
        "\n",
        "# starting point\n",
        "def main():\n",
        "    print(\"✨ Welcome to Fatima’s Weather World ✨\")\n",
        "    city_input = input(\"Type a city name to check the vibe: \").strip()\n",
        "\n",
        "    if city_input:\n",
        "        get_weather(city_input)\n",
        "\n",
        "    else:\n",
        "        print(\"You didn’t type anything yettt! Give me a correct city name to work with.\")\n",
        "\n",
        "# starts everything when the file is runs\n",
        "if __name__ == \"__main__\":\n",
        "    main()\n"
      ],
      "metadata": {
        "colab": {
          "base_uri": "https://localhost:8080/"
        },
        "id": "UqwO4tP5yqlr",
        "outputId": "62075e07-d94f-44f4-e935-13818d7addb9"
      },
      "execution_count": 35,
      "outputs": [
        {
          "output_type": "stream",
          "name": "stdout",
          "text": [
            "✨ Welcome to Fatima’s Weather World ✨\n",
            "Type a city name to check the vibe: Karachi\n",
            "\n",
            "Karachi Weather Report\n",
            "🌡️ Temp: 34.9°C\n",
            "🌦️ Sky: broken clouds\n",
            "💧 Humidity: 24%\n",
            "🌬️ Wind: 6.17 m/s\n"
          ]
        }
      ]
    }
  ]
}