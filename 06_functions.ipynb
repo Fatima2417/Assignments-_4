{
  "nbformat": 4,
  "nbformat_minor": 0,
  "metadata": {
    "colab": {
      "provenance": [],
      "authorship_tag": "ABX9TyOkkk93qEZ9ltGpNvPZkbWY",
      "include_colab_link": true
    },
    "kernelspec": {
      "name": "python3",
      "display_name": "Python 3"
    },
    "language_info": {
      "name": "python"
    }
  },
  "cells": [
    {
      "cell_type": "markdown",
      "metadata": {
        "id": "view-in-github",
        "colab_type": "text"
      },
      "source": [
        "<a href=\"https://colab.research.google.com/github/Fatima2417/Assignments-_4/blob/main/06_functions.ipynb\" target=\"_parent\"><img src=\"https://colab.research.google.com/assets/colab-badge.svg\" alt=\"Open In Colab\"/></a>"
      ]
    },
    {
      "cell_type": "markdown",
      "source": [
        "# 00_averages"
      ],
      "metadata": {
        "id": "weMSaNKna08f"
      }
    },
    {
      "cell_type": "code",
      "source": [
        "def average(a: float, b: float):\n",
        "\n",
        "    \"\"\"\n",
        "    Returns the number which is halfway between a and b\n",
        "    \"\"\"\n",
        "\n",
        "    sum = a + b\n",
        "\n",
        "    return sum / 2\n",
        "\n",
        "def main():\n",
        "    # calculate the average of two pairs of numbers\n",
        "    avg_1 = average(0, 10)\n",
        "    avg_2 = average(8, 10)\n",
        "\n",
        "    # calculate the final average between the two previous averages\n",
        "    final = average(avg_1, avg_2)\n",
        "\n",
        "    # Print the results\n",
        "    print(\"avg_1\", avg_1)\n",
        "    print(\"avg_2\", avg_2)\n",
        "    print(\"final\", final)\n",
        "\n",
        "\n",
        "if __name__ == '__main__':\n",
        "    main()\n"
      ],
      "metadata": {
        "colab": {
          "base_uri": "https://localhost:8080/"
        },
        "id": "AOjCGNdLa9W_",
        "outputId": "dc708362-33c0-4467-810a-21aab2cc6309"
      },
      "execution_count": 1,
      "outputs": [
        {
          "output_type": "stream",
          "name": "stdout",
          "text": [
            "avg_1 5.0\n",
            "avg_2 9.0\n",
            "final 7.0\n"
          ]
        }
      ]
    },
    {
      "cell_type": "markdown",
      "source": [
        "# 01_chaotic_counting"
      ],
      "metadata": {
        "id": "BdHhUwfQbWWi"
      }
    },
    {
      "cell_type": "code",
      "source": [
        "import random\n",
        "\n",
        "# Set the likelihood of stopping 0.3 means 30%\n",
        "DONE_LIKELIHOOD = 0.3\n",
        "\n",
        "def chaotic_counting():\n",
        "    for i in range(10):\n",
        "        curr_num = i + 1\n",
        "        if done():  # check if it's time to stop\n",
        "\n",
        "            return  #exit the function and resume main\n",
        "\n",
        "        print(curr_num)  # Print the current number\n",
        "\n",
        "def done():\n",
        "    \"\"\"Returns True with a probability of DONE_LIKELIHOOD.\"\"\"\n",
        "    if random.random() < DONE_LIKELIHOOD:  # Random chance to stop\n",
        "        return True\n",
        "    return False\n",
        "\n",
        "def main():\n",
        "    print(\"I'm going to count until 10 or until I feel like stopping, whichever comes first.\")\n",
        "    chaotic_counting()\n",
        "    print(\"I'm done\")\n",
        "\n",
        "if __name__ == \"__main__\":\n",
        "    main()\n"
      ],
      "metadata": {
        "colab": {
          "base_uri": "https://localhost:8080/"
        },
        "id": "TkcZrSTybYS1",
        "outputId": "3e81d9f7-9ebd-432f-d1c2-7027bc4bfdaf"
      },
      "execution_count": 2,
      "outputs": [
        {
          "output_type": "stream",
          "name": "stdout",
          "text": [
            "I'm going to count until 10 or until I feel like stopping, whichever comes first.\n",
            "1\n",
            "2\n",
            "3\n",
            "I'm done\n"
          ]
        }
      ]
    },
    {
      "cell_type": "markdown",
      "source": [
        "# 02_count_even"
      ],
      "metadata": {
        "id": "nAseZG0Db4Aq"
      }
    },
    {
      "cell_type": "code",
      "source": [
        "def count_even(lst):\n",
        "    count = 0  # Initialize counter for even numbers\n",
        "    for num in lst:\n",
        "        if num % 2 == 0:  # Check if number is even\n",
        "            count += 1  # Increment only if even\n",
        "    print(count)  # result\n",
        "\n",
        "def get_list_of_ints():\n",
        "    lst = []  # List to store numbers\n",
        "    user_input = input(\"Enter an integer or press enter to stop: \")  # Ask for user input\n",
        "    while user_input != \"\":  # Keep looping until user presses enter without input\n",
        "        lst.append(int(user_input))\n",
        "        user_input = input(\"Enter an integer or press enter to stop: \")  # Prompt again\n",
        "    return lst  # Return the final list of numbers\n",
        "\n",
        "def main():\n",
        "    lst = get_list_of_ints()  # Get list from user\n",
        "    count_even(lst)  # Count and print even numbers\n",
        "\n",
        "if __name__ == '__main__':\n",
        "    main()\n"
      ],
      "metadata": {
        "colab": {
          "base_uri": "https://localhost:8080/"
        },
        "id": "rqurxDLnb9iM",
        "outputId": "da062bd6-461c-44fd-9027-b66e0b2ca7dc"
      },
      "execution_count": 5,
      "outputs": [
        {
          "output_type": "stream",
          "name": "stdout",
          "text": [
            "Enter an integer or press enter to stop: 5\n",
            "Enter an integer or press enter to stop: 4\n",
            "Enter an integer or press enter to stop: 3\n",
            "Enter an integer or press enter to stop: 2\n",
            "Enter an integer or press enter to stop: 1\n",
            "Enter an integer or press enter to stop: \n",
            "2\n"
          ]
        }
      ]
    },
    {
      "cell_type": "markdown",
      "source": [
        "# 03_double"
      ],
      "metadata": {
        "id": "Vp5RoK5Rc7Z2"
      }
    },
    {
      "cell_type": "code",
      "source": [
        "def double(num: int):\n",
        "    return num * 2  # Multiply num by 2 and returns the result\n",
        "\n",
        "def main():\n",
        "    num = int(input(\"Enter a number: \"))  # Get the number from the user\n",
        "\n",
        "    num_times_2 = double(num)  # Call double() to multiply the number by 2\n",
        "\n",
        "    print(\"Double that is\", num_times_2)  # Print the result\n",
        "\n",
        "if __name__ == '__main__':\n",
        "    main()  # Start the program\n"
      ],
      "metadata": {
        "colab": {
          "base_uri": "https://localhost:8080/"
        },
        "id": "bobre8jGdIc1",
        "outputId": "7f2465f7-9df2-4ba4-dc7c-9585814b31ba"
      },
      "execution_count": 6,
      "outputs": [
        {
          "output_type": "stream",
          "name": "stdout",
          "text": [
            "Enter a number: 6\n",
            "Double that is 12\n"
          ]
        }
      ]
    },
    {
      "cell_type": "markdown",
      "source": [
        "\n",
        "# 04_get_name"
      ],
      "metadata": {
        "id": "Sr8c5iDZdI-o"
      }
    },
    {
      "cell_type": "code",
      "source": [
        "def get_name():\n",
        "    return \"Fatima\"  # only return the name as a string\n",
        "\n",
        "def main():\n",
        "    name = get_name()  # get the name by calling get_name()\n",
        "\n",
        "    print(\"Howdy\", name, \"! 🤠\")  # Greets the name\n",
        "\n",
        "if __name__ == '__main__':\n",
        "    main()  # Run the main function\n"
      ],
      "metadata": {
        "colab": {
          "base_uri": "https://localhost:8080/"
        },
        "id": "z0zh6nnzdJWJ",
        "outputId": "aab48619-e046-4d01-8a47-a3213a96e084"
      },
      "execution_count": 8,
      "outputs": [
        {
          "output_type": "stream",
          "name": "stdout",
          "text": [
            "Howdy Fatima ! 🤠\n"
          ]
        }
      ]
    },
    {
      "cell_type": "markdown",
      "source": [
        "# 05_is_odd"
      ],
      "metadata": {
        "id": "vQEzhibLdJpd"
      }
    },
    {
      "cell_type": "code",
      "source": [
        "def main():\n",
        "    for i in range(10, 20):\n",
        "\n",
        "        if is_odd(i):\n",
        "            print(f\"{i} odd\")\n",
        "\n",
        "        else:\n",
        "            print(f\"{i} even\")\n",
        "\n",
        "def is_odd(value: int):\n",
        "    return value % 2 != 0  # returns True if the number is odd\n",
        "\n",
        "if __name__ == '__main__':\n",
        "    main()\n"
      ],
      "metadata": {
        "colab": {
          "base_uri": "https://localhost:8080/"
        },
        "id": "tfepZbWLdJ0K",
        "outputId": "5891bc17-30a3-463c-8e0e-3f4890ce64f2"
      },
      "execution_count": 9,
      "outputs": [
        {
          "output_type": "stream",
          "name": "stdout",
          "text": [
            "10 even\n",
            "11 odd\n",
            "12 even\n",
            "13 odd\n",
            "14 even\n",
            "15 odd\n",
            "16 even\n",
            "17 odd\n",
            "18 even\n",
            "19 odd\n"
          ]
        }
      ]
    },
    {
      "cell_type": "markdown",
      "source": [
        "# 06_print_divisor"
      ],
      "metadata": {
        "id": "CN0LoOImdKBz"
      }
    },
    {
      "cell_type": "code",
      "source": [
        "def print_divisors(num: int):\n",
        "    print(f\"Here are the divisors of {num}:\")\n",
        "    for i in range(1, num + 1):\n",
        "        if num % i == 0:\n",
        "            print(i)\n",
        "\n",
        "def main():\n",
        "    num = int(input(\"Enter a number: \"))  # Prompt user to enter a number\n",
        "\n",
        "    print_divisors(num)  # Call the helper function to print divisors\n",
        "\n",
        "if __name__ == '__main__':\n",
        "    main()\n"
      ],
      "metadata": {
        "colab": {
          "base_uri": "https://localhost:8080/"
        },
        "id": "TT0WrInZdKLH",
        "outputId": "3934e89a-ae74-42bc-87e0-3252741be496"
      },
      "execution_count": 10,
      "outputs": [
        {
          "output_type": "stream",
          "name": "stdout",
          "text": [
            "Enter a number: 24\n",
            "Here are the divisors of 24:\n",
            "1\n",
            "2\n",
            "3\n",
            "4\n",
            "6\n",
            "8\n",
            "12\n",
            "24\n"
          ]
        }
      ]
    },
    {
      "cell_type": "markdown",
      "source": [
        "# 07_print_multiple\n"
      ],
      "metadata": {
        "id": "okxcLzBrdpkO"
      }
    },
    {
      "cell_type": "code",
      "source": [
        "def print_multiple(message: str, repeats: int):\n",
        "    # Loop to print the message and repeats  number of times\n",
        "    for i in range(repeats):\n",
        "        print(message)\n",
        "\n",
        "def main():\n",
        "    # Prompt user for message and repeat count\n",
        "    message = input(\"Please type a message: \")\n",
        "\n",
        "    repeats = int(input(\"Enter a number of times to repeat your message: \"))\n",
        "\n",
        "    print_multiple(message, repeats)\n",
        "\n",
        "if __name__ == '__main__':\n",
        "    main()\n"
      ],
      "metadata": {
        "colab": {
          "base_uri": "https://localhost:8080/"
        },
        "id": "2ymLjLJddptK",
        "outputId": "dc5818a8-4231-4271-ca98-e0735de0e077"
      },
      "execution_count": 11,
      "outputs": [
        {
          "output_type": "stream",
          "name": "stdout",
          "text": [
            "Please type a message: I am unstoppable!!!!!\n",
            "Enter a number of times to repeat your message: 24\n",
            "I am unstoppable!!!!!\n",
            "I am unstoppable!!!!!\n",
            "I am unstoppable!!!!!\n",
            "I am unstoppable!!!!!\n",
            "I am unstoppable!!!!!\n",
            "I am unstoppable!!!!!\n",
            "I am unstoppable!!!!!\n",
            "I am unstoppable!!!!!\n",
            "I am unstoppable!!!!!\n",
            "I am unstoppable!!!!!\n",
            "I am unstoppable!!!!!\n",
            "I am unstoppable!!!!!\n",
            "I am unstoppable!!!!!\n",
            "I am unstoppable!!!!!\n",
            "I am unstoppable!!!!!\n",
            "I am unstoppable!!!!!\n",
            "I am unstoppable!!!!!\n",
            "I am unstoppable!!!!!\n",
            "I am unstoppable!!!!!\n",
            "I am unstoppable!!!!!\n",
            "I am unstoppable!!!!!\n",
            "I am unstoppable!!!!!\n",
            "I am unstoppable!!!!!\n",
            "I am unstoppable!!!!!\n"
          ]
        }
      ]
    },
    {
      "cell_type": "markdown",
      "source": [
        "# 08_sentence_generator"
      ],
      "metadata": {
        "id": "IdpPwhYWdp15"
      }
    },
    {
      "cell_type": "code",
      "source": [
        "def make_sentence(word, part_of_speech):\n",
        "\n",
        "    # Checks the part of speech and construct the sentence accordingly\n",
        "    if part_of_speech == 0:\n",
        "        # noun\n",
        "        print(\"I am excited to add this \" + word + \" to my vast collection of them!\")\n",
        "\n",
        "    elif part_of_speech == 1:\n",
        "        # verb\n",
        "        print(\"It's so nice outside today it makes me want to \" + word + \"!\")\n",
        "\n",
        "    elif part_of_speech == 2:\n",
        "        # adjective\n",
        "        print(\"Looking out my window, the sky is big and \" + word + \"!\")\n",
        "\n",
        "    else:\n",
        "        # Handle invalid part of speech values\n",
        "        print(\"Part of speech must be 0, 1, or 2! Can't make a sentence.\")\n",
        "\n",
        "def main():\n",
        "    # Prompt user for the word and its part of speech\n",
        "    word = input(\"Please type a noun, verb, or adjective: \")\n",
        "    print(\"Is this a noun, verb, or adjective?\")\n",
        "    part_of_speech = int(input(\"Type 0 for noun, 1 for verb, 2 for adjective: \"))\n",
        "\n",
        "    make_sentence(word, part_of_speech)\n",
        "\n",
        "if __name__ == '__main__':\n",
        "    main()\n"
      ],
      "metadata": {
        "colab": {
          "base_uri": "https://localhost:8080/"
        },
        "id": "Nn1LmM0Udp-_",
        "outputId": "44ed5c79-540d-4598-9d9a-3896c9546aa2"
      },
      "execution_count": 13,
      "outputs": [
        {
          "output_type": "stream",
          "name": "stdout",
          "text": [
            "Please type a noun, verb, or adjective: guitar\n",
            "Is this a noun, verb, or adjective?\n",
            "Type 0 for noun, 1 for verb, 2 for adjective: 0\n",
            "I am excited to add this guitar to my vast collection of them!\n"
          ]
        }
      ]
    },
    {
      "cell_type": "markdown",
      "source": [
        "# 9_print_ones_digit"
      ],
      "metadata": {
        "id": "wcGAI8jFeCZ1"
      }
    },
    {
      "cell_type": "code",
      "source": [
        "def print_ones_digit(num):\n",
        "    # Using the modulus operator to get the ones digit\n",
        "    print(\"The ones digit is\", num % 10)\n",
        "\n",
        "def main():\n",
        "    num = int(input(\"Enter a number: \"))\n",
        "    print_ones_digit(num)\n",
        "\n",
        "\n",
        "if __name__ == '__main__':\n",
        "    main()\n"
      ],
      "metadata": {
        "colab": {
          "base_uri": "https://localhost:8080/"
        },
        "id": "LLB-EVT9eCtD",
        "outputId": "b0b3766c-a212-4b34-d6eb-1d75945087c5"
      },
      "execution_count": 14,
      "outputs": [
        {
          "output_type": "stream",
          "name": "stdout",
          "text": [
            "Enter a number: 42\n",
            "The ones digit is 2\n"
          ]
        }
      ]
    }
  ]
}