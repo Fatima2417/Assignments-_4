{
  "nbformat": 4,
  "nbformat_minor": 0,
  "metadata": {
    "colab": {
      "provenance": [],
      "authorship_tag": "ABX9TyPA15AXjp4QwJwCPdS+4Npo",
      "include_colab_link": true
    },
    "kernelspec": {
      "name": "python3",
      "display_name": "Python 3"
    },
    "language_info": {
      "name": "python"
    }
  },
  "cells": [
    {
      "cell_type": "markdown",
      "metadata": {
        "id": "view-in-github",
        "colab_type": "text"
      },
      "source": [
        "<a href=\"https://colab.research.google.com/github/Fatima2417/Assignments-_4/blob/main/02_lists_.ipynb\" target=\"_parent\"><img src=\"https://colab.research.google.com/assets/colab-badge.svg\" alt=\"Open In Colab\"/></a>"
      ]
    },
    {
      "cell_type": "markdown",
      "source": [
        "# 01_add_many_number"
      ],
      "metadata": {
        "id": "zLLUFAR_rWPo"
      }
    },
    {
      "cell_type": "code",
      "source": [
        "def add_many_numbers(numbers) -> int:\n",
        "    \"\"\"\n",
        "    Takes in a list of numbers and returns the sum of those numbers.\n",
        "    \"\"\"\n",
        "    total_so_far: int = 0\n",
        "    for number in numbers:\n",
        "        total_so_far += number\n",
        "    return total_so_far\n",
        "\n",
        "# There is no need to edit code beyond this point\n",
        "\n",
        "def main():\n",
        "    numbers: list[int] = [1, 2, 3, 4, 5]  # Make a list of numbers\n",
        "    sum_of_numbers: int = add_many_numbers(numbers)  # Find the sum of the list\n",
        "    print(sum_of_numbers)  # Print out the sum above\n",
        "\n",
        "if __name__ == '__main__':\n",
        "    main()\n"
      ],
      "metadata": {
        "id": "BuGrxpv9rWes",
        "colab": {
          "base_uri": "https://localhost:8080/"
        },
        "outputId": "6719eb5d-fcf9-4b88-da5c-7c94f61a6011"
      },
      "execution_count": null,
      "outputs": [
        {
          "output_type": "stream",
          "name": "stdout",
          "text": [
            "15\n"
          ]
        }
      ]
    },
    {
      "cell_type": "markdown",
      "source": [
        "# 02_double_list."
      ],
      "metadata": {
        "id": "hHYlSkURrhzS"
      }
    },
    {
      "cell_type": "code",
      "source": [
        "def main():\n",
        "    numbers: list[int] = [1, 2, 3, 4]  # Creates a list of numbers\n",
        "\n",
        "    for i in range(len(numbers)):  # Loop through the indices of the list\n",
        "        numbers[i] = numbers[i] * 2  # Double each element in place\n",
        "\n",
        "    print(numbers)  # Output the updated list\n",
        "\n",
        "# This provided line is required at the end of\n",
        "# Python file to call the main() function.\n",
        "if __name__ == '__main__':\n",
        "    main()\n"
      ],
      "metadata": {
        "id": "EDU4y7l5rop0",
        "colab": {
          "base_uri": "https://localhost:8080/"
        },
        "outputId": "80a94766-dfd7-4b73-baa3-0f836f2128c8"
      },
      "execution_count": null,
      "outputs": [
        {
          "output_type": "stream",
          "name": "stdout",
          "text": [
            "[2, 4, 6, 8]\n"
          ]
        }
      ]
    },
    {
      "cell_type": "markdown",
      "source": [
        "# 03_erase_canvas"
      ],
      "metadata": {
        "id": "mhXrbUe4r4ij"
      }
    },
    {
      "cell_type": "markdown",
      "source": [
        "03_erase_canvas.py is on github sepratly due to"
      ],
      "metadata": {
        "id": "-X6z_LmwwtFY"
      }
    },
    {
      "cell_type": "markdown",
      "source": [
        "# 04_flowing_with_data_structures"
      ],
      "metadata": {
        "id": "m6WhEqgjxhY0"
      }
    },
    {
      "cell_type": "code",
      "source": [
        "def add_three_copies(my_list, data):\n",
        "    # Add three copies of the data to the list\n",
        "    for i in range(3):\n",
        "        my_list.append(data)\n",
        "\n",
        "def main():\n",
        "    message = input(\"Enter a message to copy: \")\n",
        "\n",
        "    my_list = []\n",
        "\n",
        "    print(\"List before:\", my_list)\n",
        "\n",
        "    # Call the function to add three copies of the message\n",
        "    add_three_copies(my_list, message)\n",
        "\n",
        "    # Print the list after modification\n",
        "    print(\"List after:\", my_list)\n",
        "\n",
        "# Required line to call the main() function\n",
        "if __name__ == \"__main__\":\n",
        "    main()\n"
      ],
      "metadata": {
        "colab": {
          "base_uri": "https://localhost:8080/"
        },
        "id": "R0L3z3Rmxjnc",
        "outputId": "1279e564-89f5-45b1-b8d2-d9db5070c7f5"
      },
      "execution_count": 6,
      "outputs": [
        {
          "output_type": "stream",
          "name": "stdout",
          "text": [
            "Enter a message to copy: Hi! how are you,\n",
            "List before: []\n",
            "List after: ['Hi! how are you,', 'Hi! how are you,', 'Hi! how are you,']\n"
          ]
        }
      ]
    },
    {
      "cell_type": "markdown",
      "source": [
        "# 05_get_first_element"
      ],
      "metadata": {
        "id": "1mDS8K4iyASd"
      }
    },
    {
      "cell_type": "code",
      "source": [
        "def get_first_element(lst):\n",
        "    \"\"\"\n",
        "    Prints the first element of a provided list.\n",
        "    \"\"\"\n",
        "    print(lst[0])\n",
        "\n",
        "def get_lst():\n",
        "    \"\"\"\n",
        "    Prompts the user to enter one element of the list at a time and returns the resulting list.\n",
        "    \"\"\"\n",
        "    lst = []\n",
        "    elem = input(\"Please enter an element of the list or press enter to stop. \")\n",
        "    while elem != \"\":\n",
        "        lst.append(elem)\n",
        "        elem = input(\"Please enter an element of the list or press enter to stop. \")\n",
        "    return lst\n",
        "\n",
        "def main():\n",
        "    lst = get_lst() # Getting the list from user input\n",
        "    get_first_element(lst)  # Print the first element\n",
        "\n",
        "if __name__ == '__main__':\n",
        "    main()\n"
      ],
      "metadata": {
        "colab": {
          "base_uri": "https://localhost:8080/"
        },
        "id": "MAzsDBUsybpE",
        "outputId": "2050f586-ff80-4d2e-e1ee-9d788b399721"
      },
      "execution_count": 7,
      "outputs": [
        {
          "output_type": "stream",
          "name": "stdout",
          "text": [
            "Please enter an element of the list or press enter to stop. apple\n",
            "Please enter an element of the list or press enter to stop. banana\n",
            "Please enter an element of the list or press enter to stop. orange\n",
            "Please enter an element of the list or press enter to stop. vegetables\n",
            "Please enter an element of the list or press enter to stop. sweets\n",
            "Please enter an element of the list or press enter to stop. \n",
            "apple\n"
          ]
        }
      ]
    },
    {
      "cell_type": "markdown",
      "source": [
        "# 06_get_last_element"
      ],
      "metadata": {
        "id": "4i1PLdeJ0nts"
      }
    },
    {
      "cell_type": "code",
      "source": [
        "def get_last_element(lst):\n",
        "    \"\"\"\n",
        "    Prints the last element of the provided list.\n",
        "    \"\"\"\n",
        "    # Two ways to prints the last element\n",
        "    # Opt 1:Using len(lst) - 1\n",
        "    print(lst[len(lst) - 1])\n",
        "\n",
        "    # Opt 2: Using negative indexing\n",
        "    # print(lst[-1])\n",
        "\n",
        "# no need to edit code beyond this point\n",
        "def get_lst():\n",
        "    \"\"\"\n",
        "    Prompts the user to enter one element of the list at a time and returns the resulting list.\n",
        "    \"\"\"\n",
        "    lst = []\n",
        "    elem = input(\"Please enter an element of the list or press enter to stop. \")\n",
        "    while elem != \"\":\n",
        "        lst.append(elem)\n",
        "        elem = input(\"Please enter an element of the list or press enter to stop. \")\n",
        "    return lst\n",
        "\n",
        "def main():\n",
        "    lst = get_lst()  # Getting the list from user input\n",
        "    get_last_element(lst)  # Prints the last element\n",
        "\n",
        "if __name__ == '__main__':\n",
        "    main()\n"
      ],
      "metadata": {
        "colab": {
          "base_uri": "https://localhost:8080/"
        },
        "id": "3cckFOFV0tBv",
        "outputId": "e56b2e96-ec54-4c51-cd26-600be66b4c04"
      },
      "execution_count": 8,
      "outputs": [
        {
          "output_type": "stream",
          "name": "stdout",
          "text": [
            "Please enter an element of the list or press enter to stop. sweets\n",
            "Please enter an element of the list or press enter to stop. milk\n",
            "Please enter an element of the list or press enter to stop. \n",
            "milk\n"
          ]
        }
      ]
    },
    {
      "cell_type": "markdown",
      "source": [
        "# 07_get_list"
      ],
      "metadata": {
        "id": "mAOcnq2s2TVQ"
      }
    },
    {
      "cell_type": "code",
      "source": [
        "def main():\n",
        "    lst = []  # list to store values\n",
        "\n",
        "    val = input(\"Enter a value: \")  # take the first value\n",
        "    while val:  # Continue if a user enters the value not empty\n",
        "        lst.append(val)\n",
        "        val = input(\"Enter a value: \")  # next value to add\n",
        "\n",
        "    print(\"Here's the list:\", lst)\n",
        "\n",
        "# This line ensures the main function is called when the script runs\n",
        "if __name__ == '__main__':\n",
        "    main()\n"
      ],
      "metadata": {
        "colab": {
          "base_uri": "https://localhost:8080/"
        },
        "id": "Ww8pBcww2giI",
        "outputId": "13e38286-efe5-4df2-b531-b8cc9b95592a"
      },
      "execution_count": 9,
      "outputs": [
        {
          "output_type": "stream",
          "name": "stdout",
          "text": [
            "Enter a value: 1\n",
            "Enter a value: 2\n",
            "Enter a value: 3\n",
            "Enter a value: 4\n",
            "Enter a value: \n",
            "Here's the list: ['1', '2', '3', '4']\n"
          ]
        }
      ]
    },
    {
      "cell_type": "markdown",
      "source": [
        "# 08_shorten"
      ],
      "metadata": {
        "id": "HiPBEtov4Nu4"
      }
    },
    {
      "cell_type": "code",
      "source": [
        "MAX_LENGTH = 3\n",
        "\n",
        "def shorten(lst):\n",
        "    \"\"\"Removes elements from the end of lst until its length is MAX_LENGTH.\"\"\"\n",
        "    while len(lst) > MAX_LENGTH:  # Checking if the list exceeds max_length\n",
        "        last_elem = lst.pop()  # Remove the last element of the list\n",
        "        print(last_elem)  # Prints the removed element\n",
        "\n",
        "# The function to get a list of values from the user\n",
        "def get_lst():\n",
        "    \"\"\"\n",
        "    Prompts the user to enter one element of the list at a time and returns the resulting list.\n",
        "    \"\"\"\n",
        "    lst = []\n",
        "    elem = input(\"Please enter an element of the list or press enter to stop: \")\n",
        "    while elem != \"\":  # Continue asking for input until the user presses enter without typing anything\n",
        "        lst.append(elem)\n",
        "        elem = input(\"Please enter an element of the list or press enter to stop: \")\n",
        "    return lst\n",
        "def main():\n",
        "    lst = get_lst()\n",
        "    shorten(lst)  # Shorten the list to max_length and prints removed items\n",
        "\n",
        "\n",
        "# Call the main function to start the program\n",
        "if __name__ == '__main__':\n",
        "    main()\n"
      ],
      "metadata": {
        "colab": {
          "base_uri": "https://localhost:8080/"
        },
        "id": "11Oj92He4Uls",
        "outputId": "23fb82d5-bea5-4b30-dcdf-dd5ff620a404"
      },
      "execution_count": 10,
      "outputs": [
        {
          "output_type": "stream",
          "name": "stdout",
          "text": [
            "Please enter an element of the list or press enter to stop: a\n",
            "Please enter an element of the list or press enter to stop: b\n",
            "Please enter an element of the list or press enter to stop: d\n",
            "Please enter an element of the list or press enter to stop: f\n",
            "Please enter an element of the list or press enter to stop: f\n",
            "Please enter an element of the list or press enter to stop: d\n",
            "Please enter an element of the list or press enter to stop: s\n",
            "Please enter an element of the list or press enter to stop: \n",
            "s\n",
            "d\n",
            "f\n",
            "f\n"
          ]
        }
      ]
    }
  ]
}