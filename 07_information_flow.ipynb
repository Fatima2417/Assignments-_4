{
  "nbformat": 4,
  "nbformat_minor": 0,
  "metadata": {
    "colab": {
      "provenance": [],
      "authorship_tag": "ABX9TyNfFLE5YIKG7HYaCFMV6owl",
      "include_colab_link": true
    },
    "kernelspec": {
      "name": "python3",
      "display_name": "Python 3"
    },
    "language_info": {
      "name": "python"
    }
  },
  "cells": [
    {
      "cell_type": "markdown",
      "metadata": {
        "id": "view-in-github",
        "colab_type": "text"
      },
      "source": [
        "<a href=\"https://colab.research.google.com/github/Fatima2417/Assignments-_4/blob/main/07_information_flow.ipynb\" target=\"_parent\"><img src=\"https://colab.research.google.com/assets/colab-badge.svg\" alt=\"Open In Colab\"/></a>"
      ]
    },
    {
      "cell_type": "markdown",
      "source": [
        "# 00_choosing_returns"
      ],
      "metadata": {
        "id": "h7eVolk7iY-u"
      }
    },
    {
      "cell_type": "code",
      "source": [
        "# for check adult in the United States\n",
        "ADULT_AGE = 18  # U.S. age\n",
        "\n",
        "def is_adult(age: int):\n",
        "    # Returns True if age is greater than or equal to ADULT_AGE, otherwise False\n",
        "    if age >= ADULT_AGE:\n",
        "        return True\n",
        "    return False\n",
        "\n",
        "# Main function that gets the age input from the user\n",
        "def main():\n",
        "    age = int(input(\"How old is this person?: \"))\n",
        "    # reault\n",
        "    print(is_adult(age))\n",
        "\n",
        "if __name__ == \"__main__\":\n",
        "    main()\n"
      ],
      "metadata": {
        "colab": {
          "base_uri": "https://localhost:8080/"
        },
        "id": "G02MJZ_siZWq",
        "outputId": "7252684b-a10d-4bc4-92eb-33fbbe16412a"
      },
      "execution_count": 1,
      "outputs": [
        {
          "output_type": "stream",
          "name": "stdout",
          "text": [
            "How old is this person?: 16\n",
            "False\n"
          ]
        }
      ]
    },
    {
      "cell_type": "markdown",
      "source": [
        "# 01_greetings"
      ],
      "metadata": {
        "id": "8n6FpHt2iZrC"
      }
    },
    {
      "cell_type": "code",
      "source": [
        "# This helper function greets the user with their name.\n",
        "def greet(name):\n",
        "    return \"Greetings \" + name + \"!\"\n",
        "\n",
        "# The main function that gets the user's name and calls greet() to print the greeting.\n",
        "def main():\n",
        "    name = input(\"What's your name? \")\n",
        "    print(greet(name))\n",
        "\n",
        "\n",
        "if __name__ == '__main__':\n",
        "    main()\n"
      ],
      "metadata": {
        "colab": {
          "base_uri": "https://localhost:8080/"
        },
        "id": "1u0ipm2_iZz3",
        "outputId": "f7aed54b-acd9-4a48-d6b7-51bd74af425a"
      },
      "execution_count": 3,
      "outputs": [
        {
          "output_type": "stream",
          "name": "stdout",
          "text": [
            "What's your name? Fatima\n",
            "Greetings Fatima!\n"
          ]
        }
      ]
    },
    {
      "cell_type": "markdown",
      "source": [
        "# 02_in_range"
      ],
      "metadata": {
        "id": "z-j6BVdJiZ9v"
      }
    },
    {
      "cell_type": "code",
      "source": [
        "def in_range(n, low, high):\n",
        "    \"\"\"\n",
        "    Returns True if n is between low and high, inclusive.\n",
        "    high is guaranteed to be greater than low.\n",
        "    \"\"\"\n",
        "\n",
        "    if n >= low and n <= high:\n",
        "        return True\n",
        "    return False\n",
        "\n",
        "def main():\n",
        "    # Example of calling the in_range function\n",
        "    n = int(input(\"Enter a number: \"))\n",
        "    low = int(input(\"Enter the low value: \"))\n",
        "    high = int(input(\"Enter the high value: \"))\n",
        "\n",
        "\n",
        "    # Checking if the number is within the range and printing the result\n",
        "    print(in_range(n, low, high))\n",
        "\n",
        "if __name__ == '__main__':\n",
        "    main()\n"
      ],
      "metadata": {
        "colab": {
          "base_uri": "https://localhost:8080/"
        },
        "id": "oQydLjVoiaFm",
        "outputId": "ea1a6c1d-b572-44ec-fb78-66d118e0e2fb"
      },
      "execution_count": 4,
      "outputs": [
        {
          "output_type": "stream",
          "name": "stdout",
          "text": [
            "Enter a number: 50\n",
            "Enter the low value: 30\n",
            "Enter the high value: 40\n",
            "False\n"
          ]
        }
      ]
    },
    {
      "cell_type": "markdown",
      "source": [
        "# 03_in_stock"
      ],
      "metadata": {
        "id": "fK_yn62LiaPb"
      }
    },
    {
      "cell_type": "code",
      "source": [
        "def main():\n",
        "    fruit = input(\"Enter a fruit: \")\n",
        "    stock = num_in_stock(fruit)\n",
        "    if stock == 0:\n",
        "        print(\"This fruit is not in stock.\")\n",
        "    else:\n",
        "        print(\"This fruit is in stock! Here is how many:\")\n",
        "        print(stock)\n",
        "\n",
        "def num_in_stock(fruit):\n",
        "    \"\"\"\n",
        "    This function returns the number of fruit Sophia has in stock.\n",
        "    \"\"\"\n",
        "\n",
        "    if fruit == 'apple':\n",
        "        return 2\n",
        "    if fruit == 'durian':\n",
        "        return 4\n",
        "    if fruit == 'pear':\n",
        "        return 1000\n",
        "    else:\n",
        "        # this fruits is not in stock.\n",
        "        return 0\n",
        "\n",
        "if __name__ == '__main__':\n",
        "    main()\n"
      ],
      "metadata": {
        "colab": {
          "base_uri": "https://localhost:8080/"
        },
        "id": "WjmLps4hiaWv",
        "outputId": "cb000fda-1547-4308-c9cb-91f16b7e8645"
      },
      "execution_count": 6,
      "outputs": [
        {
          "output_type": "stream",
          "name": "stdout",
          "text": [
            "Enter a fruit: pear\n",
            "This fruit is in stock! Here is how many:\n",
            "1000\n"
          ]
        }
      ]
    },
    {
      "cell_type": "markdown",
      "source": [
        "# 04_multiple_returns"
      ],
      "metadata": {
        "id": "gMV9mtmUibEM"
      }
    },
    {
      "cell_type": "code",
      "source": [
        "# func to ask first name, second name and email adress\n",
        "def get_user_info():\n",
        "    first_name = input(\"What is your first name?: \")\n",
        "    last_name = input(\"What is your last name?: \")\n",
        "    email_address = input(\"What is your email address?: \")\n",
        "\n",
        "    return first_name, last_name, email_address\n",
        "\n",
        "def main():\n",
        "    user_data = get_user_info()\n",
        "\n",
        "    print(\"Received the following user data:\", user_data)\n",
        "\n",
        "if __name__ == \"__main__\":\n",
        "     main()\n"
      ],
      "metadata": {
        "colab": {
          "base_uri": "https://localhost:8080/"
        },
        "id": "yAxAroinibMp",
        "outputId": "eb906a35-a0d6-40ef-ea8e-1f0def26a323"
      },
      "execution_count": 7,
      "outputs": [
        {
          "output_type": "stream",
          "name": "stdout",
          "text": [
            "What is your first name?: Alina\n",
            "What is your last name?: khan\n",
            "What is your email address?: alina@gmail.com\n",
            "Received the following user data: ('Alina', 'khan', 'alina@gmail.com')\n"
          ]
        }
      ]
    },
    {
      "cell_type": "markdown",
      "source": [
        "# 05_subtract_7"
      ],
      "metadata": {
        "id": "hCxKPG1aicSY"
      }
    },
    {
      "cell_type": "code",
      "source": [
        "# function to subtract 7 from num\n",
        "def main():\n",
        "    num = 7\n",
        "    num = subtract_seven(num)\n",
        "    print(\"This should be zero:\", num)\n",
        "\n",
        "def subtract_seven(num):\n",
        "    num = num - 7\n",
        "    return num\n",
        "\n",
        "\n",
        "if __name__ == '__main__':\n",
        "    main()\n"
      ],
      "metadata": {
        "colab": {
          "base_uri": "https://localhost:8080/"
        },
        "id": "-zflM1lJicdV",
        "outputId": "5988f8a6-45c5-46d8-9857-af52605417c5"
      },
      "execution_count": 9,
      "outputs": [
        {
          "output_type": "stream",
          "name": "stdout",
          "text": [
            "This should be zero: 0\n"
          ]
        }
      ]
    }
  ]
}