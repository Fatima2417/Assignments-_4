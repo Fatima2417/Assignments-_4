{
  "nbformat": 4,
  "nbformat_minor": 0,
  "metadata": {
    "colab": {
      "provenance": [],
      "authorship_tag": "ABX9TyP0yOtLqz2knflUeJ/Pouwe",
      "include_colab_link": true
    },
    "kernelspec": {
      "name": "python3",
      "display_name": "Python 3"
    },
    "language_info": {
      "name": "python"
    }
  },
  "cells": [
    {
      "cell_type": "markdown",
      "metadata": {
        "id": "view-in-github",
        "colab_type": "text"
      },
      "source": [
        "<a href=\"https://colab.research.google.com/github/Fatima2417/Assignments-_4/blob/main/Country_Information_Cards.ipynb\" target=\"_parent\"><img src=\"https://colab.research.google.com/assets/colab-badge.svg\" alt=\"Open In Colab\"/></a>"
      ]
    },
    {
      "cell_type": "code",
      "execution_count": 1,
      "metadata": {
        "colab": {
          "base_uri": "https://localhost:8080/"
        },
        "id": "upyrro8Riwat",
        "outputId": "fc04a1c5-7737-40e6-8fb2-8d2a51a53f21"
      },
      "outputs": [
        {
          "output_type": "stream",
          "name": "stdout",
          "text": [
            "\u001b[2K     \u001b[90m━━━━━━━━━━━━━━━━━━━━━━━━━━━━━━━━━━━━━━━━\u001b[0m \u001b[32m44.3/44.3 kB\u001b[0m \u001b[31m1.3 MB/s\u001b[0m eta \u001b[36m0:00:00\u001b[0m\n",
            "\u001b[2K   \u001b[90m━━━━━━━━━━━━━━━━━━━━━━━━━━━━━━━━━━━━━━━━\u001b[0m \u001b[32m9.8/9.8 MB\u001b[0m \u001b[31m42.1 MB/s\u001b[0m eta \u001b[36m0:00:00\u001b[0m\n",
            "\u001b[2K   \u001b[90m━━━━━━━━━━━━━━━━━━━━━━━━━━━━━━━━━━━━━━━━\u001b[0m \u001b[32m6.9/6.9 MB\u001b[0m \u001b[31m38.0 MB/s\u001b[0m eta \u001b[36m0:00:00\u001b[0m\n",
            "\u001b[2K   \u001b[90m━━━━━━━━━━━━━━━━━━━━━━━━━━━━━━━━━━━━━━━━\u001b[0m \u001b[32m79.1/79.1 kB\u001b[0m \u001b[31m1.8 MB/s\u001b[0m eta \u001b[36m0:00:00\u001b[0m\n",
            "\u001b[?25h"
          ]
        }
      ],
      "source": [
        "#here i installing a streamlit\n",
        "!pip install streamlit -q"
      ]
    },
    {
      "cell_type": "code",
      "source": [
        "%%writefile app.py\n",
        "\n",
        "# imp libraries\n",
        "import streamlit as st\n",
        "\n",
        "import requests\n",
        "\n",
        "# function to get country data\n",
        "def get_country_data(country_name):\n",
        "    url = f\"https://restcountries.com/v3.1/name/{country_name}\"\n",
        "    response = requests.get(url)\n",
        "    country_data = response.json()[0]  # Extracting the country data here\n",
        "    return country_data\n",
        "\n",
        "\n",
        "st.title(\"<--Country Information Cards-->\")\n",
        "\n",
        "# Country selection\n",
        "countries = [\"Pakistan\", \"China\", \"South Korea\", \"United Kingdom\", \"Russia\",\n",
        "             \"Japan\", \"Germany\", \"France\", \"Australia\", \"India\"]  # List of countries\n",
        "\n",
        "country = st.selectbox(\"Select a Country\", countries)  # Dropdown to select country\n",
        "\n",
        "# Fetching the selected country's data\n",
        "data = get_country_data(country)\n",
        "\n",
        "# displaying the selected country information\n",
        "\n",
        "st.subheader(f\"Information about {country}\")\n",
        "\n",
        "st.write(f\"Name --> {data['name']['common']}\")  # Displaying country name\n",
        "\n",
        "st.write(f\"Capital --> {data['capital'][0] if 'capital' in data else 'N/A'}\")  # Displaying capital\n",
        "\n",
        "st.write(f\"Population --> {data['population']}\")  # Displaying population\n",
        "\n",
        "st.write(f\"Area --> {data['area']} km²\")  # Displaying area\n",
        "\n",
        "# Displays the country's flag her\n",
        "st.image(data['flags']['svg'], width=200)\n",
        "\n"
      ],
      "metadata": {
        "colab": {
          "base_uri": "https://localhost:8080/"
        },
        "id": "0SFPdEzMlpE9",
        "outputId": "e26debfc-1bfd-4f24-86da-838f6079fbea"
      },
      "execution_count": 2,
      "outputs": [
        {
          "output_type": "stream",
          "name": "stdout",
          "text": [
            "Writing app.py\n"
          ]
        }
      ]
    },
    {
      "cell_type": "code",
      "source": [
        "!pip install pyngrok"
      ],
      "metadata": {
        "colab": {
          "base_uri": "https://localhost:8080/"
        },
        "id": "leItzu-8lpI7",
        "outputId": "f6cd2eab-03c2-4cd1-f947-1c81db0bb86e"
      },
      "execution_count": 3,
      "outputs": [
        {
          "output_type": "stream",
          "name": "stdout",
          "text": [
            "Collecting pyngrok\n",
            "  Downloading pyngrok-7.2.3-py3-none-any.whl.metadata (8.7 kB)\n",
            "Requirement already satisfied: PyYAML>=5.1 in /usr/local/lib/python3.11/dist-packages (from pyngrok) (6.0.2)\n",
            "Downloading pyngrok-7.2.3-py3-none-any.whl (23 kB)\n",
            "Installing collected packages: pyngrok\n",
            "Successfully installed pyngrok-7.2.3\n"
          ]
        }
      ]
    },
    {
      "cell_type": "code",
      "source": [
        "from pyngrok import ngrok"
      ],
      "metadata": {
        "id": "4ltYN7aGlpMd"
      },
      "execution_count": 4,
      "outputs": []
    },
    {
      "cell_type": "code",
      "source": [
        "ngrok.set_auth_token(\"2qWgvFmlVTEJWTbD8NZxNavesWS_7P5BsNxWNCygVRJuxikDB\")"
      ],
      "metadata": {
        "colab": {
          "base_uri": "https://localhost:8080/"
        },
        "id": "Q5BiIwm4lpQY",
        "outputId": "c8a55302-b8b8-41dd-a31c-bb149f90a4f3"
      },
      "execution_count": 5,
      "outputs": [
        {
          "output_type": "stream",
          "name": "stdout",
          "text": []
        }
      ]
    },
    {
      "cell_type": "code",
      "source": [
        "from pyngrok import ngrok\n",
        "import os\n",
        "\n",
        "# it Kills previous tunnels\n",
        "ngrok.kill()\n",
        "\n",
        "# Start Streamlit app\n",
        "os.system(\"nohup streamlit run app.py --server.port 3030 &\")\n",
        "\n",
        "# Starting ngrok tunnel\n",
        "url = ngrok.connect(3030)\n",
        "print(\"Public URL:\", url)"
      ],
      "metadata": {
        "colab": {
          "base_uri": "https://localhost:8080/"
        },
        "id": "2uB_laPtmpxY",
        "outputId": "fb2bda08-4cdc-4b92-de53-390818d4e30e"
      },
      "execution_count": 6,
      "outputs": [
        {
          "output_type": "stream",
          "name": "stdout",
          "text": [
            "Public URL: NgrokTunnel: \"https://6c27-34-80-32-52.ngrok-free.app\" -> \"http://localhost:3030\"\n"
          ]
        }
      ]
    }
  ]
}