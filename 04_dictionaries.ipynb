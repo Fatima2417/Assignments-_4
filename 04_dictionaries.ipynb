{
  "nbformat": 4,
  "nbformat_minor": 0,
  "metadata": {
    "colab": {
      "provenance": [],
      "authorship_tag": "ABX9TyM8Vpj5RXHzZ1vEnjnnw0ko",
      "include_colab_link": true
    },
    "kernelspec": {
      "name": "python3",
      "display_name": "Python 3"
    },
    "language_info": {
      "name": "python"
    }
  },
  "cells": [
    {
      "cell_type": "markdown",
      "metadata": {
        "id": "view-in-github",
        "colab_type": "text"
      },
      "source": [
        "<a href=\"https://colab.research.google.com/github/Fatima2417/Assignments-_4/blob/main/04_dictionaries.ipynb\" target=\"_parent\"><img src=\"https://colab.research.google.com/assets/colab-badge.svg\" alt=\"Open In Colab\"/></a>"
      ]
    },
    {
      "cell_type": "markdown",
      "source": [
        "# 00_count_nums"
      ],
      "metadata": {
        "id": "XJ5nkm0uGcYj"
      }
    },
    {
      "cell_type": "code",
      "source": [
        "def get_user_numbers():\n",
        "    # Ask the user to enter numbers until a blank input is given\n",
        "    user_numbers = []\n",
        "    while True:\n",
        "        user_input = input(\"Enter a number: \")\n",
        "        if user_input == \"\":\n",
        "            break\n",
        "        num = int(user_input)\n",
        "        user_numbers.append(num)\n",
        "    return user_numbers\n",
        "\n",
        "def count_nums(num_lst):\n",
        "    # Count how many times each number appears\n",
        "    num_dict = {}\n",
        "    for num in num_lst:\n",
        "        if num not in num_dict:\n",
        "            num_dict[num] = 1\n",
        "        else:\n",
        "            num_dict[num] += 1\n",
        "    return num_dict\n",
        "\n",
        "def print_counts(num_dict):\n",
        "    # Print each number and how many times it appeared\n",
        "    for num in num_dict:\n",
        "        print(str(num) + \" appears \" + str(num_dict[num]) + \" times.\")\n",
        "\n",
        "def main():\n",
        "    user_numbers = get_user_numbers()\n",
        "    num_dict = count_nums(user_numbers)\n",
        "    print_counts(num_dict)\n",
        "\n",
        "if __name__ == '__main__':\n",
        "    main()\n"
      ],
      "metadata": {
        "colab": {
          "base_uri": "https://localhost:8080/"
        },
        "id": "eDtw5NNcGq3Q",
        "outputId": "b0f0cb1a-ca00-4747-fef9-77a31888d598"
      },
      "execution_count": 3,
      "outputs": [
        {
          "output_type": "stream",
          "name": "stdout",
          "text": [
            "Enter a number: 22\n",
            "Enter a number: 22\n",
            "Enter a number: 22\n",
            "Enter a number: 55\n",
            "Enter a number: 14\n",
            "Enter a number: 14\n",
            "Enter a number: 22\n",
            "Enter a number: 4\n",
            "Enter a number: 1\n",
            "Enter a number: 5\n",
            "Enter a number: 6\n",
            "Enter a number: \n",
            "22 appears 4 times.\n",
            "55 appears 1 times.\n",
            "14 appears 2 times.\n",
            "4 appears 1 times.\n",
            "1 appears 1 times.\n",
            "5 appears 1 times.\n",
            "6 appears 1 times.\n"
          ]
        }
      ]
    },
    {
      "cell_type": "markdown",
      "source": [
        "# 01_phonebook"
      ],
      "metadata": {
        "id": "aA3O1XoHHVZ1"
      }
    },
    {
      "cell_type": "code",
      "source": [
        "\n",
        "# function to store name with their numbers and also appear nuber by write their name\n",
        "def read_phone_numbers():\n",
        "\n",
        "    phonebook = {}\n",
        "    while True:\n",
        "        name = input(\"Name: \")\n",
        "        if name == \"\":\n",
        "            break\n",
        "        number = input(\"Number: \")\n",
        "        phonebook[name] = number\n",
        "    return phonebook\n",
        "\n",
        "def print_phonebook(phonebook):\n",
        "    for name in phonebook:\n",
        "        print(f\"{name} -> {phonebook[name]}\")\n",
        "\n",
        "def lookup_numbers(phonebook):\n",
        "    while True:\n",
        "        name = input(\"Enter name to lookup: \")\n",
        "        if name == \"\":\n",
        "            break\n",
        "        if name not in phonebook:\n",
        "            print(f\"{name} is not in the phonebook\")\n",
        "        else:\n",
        "            print(phonebook[name])\n",
        "\n",
        "def main():\n",
        "    phonebook = read_phone_numbers()\n",
        "    print_phonebook(phonebook)\n",
        "    lookup_numbers(phonebook)\n",
        "\n",
        "if __name__ == '__main__':\n",
        "    main()\n"
      ],
      "metadata": {
        "colab": {
          "base_uri": "https://localhost:8080/"
        },
        "id": "vIfJGIcLHV5t",
        "outputId": "1ab5dbfc-5427-4b98-b4ad-6efdfac0f662"
      },
      "execution_count": 1,
      "outputs": [
        {
          "name": "stdout",
          "output_type": "stream",
          "text": [
            "Name: Tina\n",
            "Number: 12345679\n",
            "Name: Kin\n",
            "Number: 123456776543\n",
            "Name: khan\n",
            "Number: 234597654\n",
            "Name: \n",
            "Tina -> 12345679\n",
            "Kin -> 123456776543\n",
            "khan -> 234597654\n",
            "Enter name to lookup: khan\n",
            "234597654\n",
            "Enter name to lookup: \n"
          ]
        }
      ]
    },
    {
      "cell_type": "markdown",
      "source": [
        "# 02_pop_up_shop"
      ],
      "metadata": {
        "id": "gk1h4RtmL7ny"
      }
    },
    {
      "cell_type": "code",
      "source": [
        "def main():\n",
        "    # Dictionary with fruit names and theirs prices\n",
        "    fruits = {\n",
        "        'apple': 1.5,\n",
        "        'durian': 50,\n",
        "        'jackfruit': 80,\n",
        "        'kiwi': 1,\n",
        "        'rambutan': 1.5,\n",
        "        'mango': 5\n",
        "    }\n",
        "\n",
        "    total_cost = 0\n",
        "\n",
        "    # Loop through each fruit and ask user how many they want\n",
        "    for fruit in fruits:\n",
        "        try:\n",
        "            quantity = int(input(f\"How many ({fruit}) do you want?: \"))\n",
        "            total_cost += fruits[fruit] * quantity\n",
        "        except ValueError:\n",
        "            print(\"Please enter a valid number!\")\n",
        "            return  # or you can continue asking again\n",
        "\n",
        "    #  total cost\n",
        "    print(f\"\\nYour total is ${total_cost}\")\n",
        "\n",
        "# Python boilerplate\n",
        "if __name__ == '__main__':\n",
        "    main()\n",
        "\n"
      ],
      "metadata": {
        "colab": {
          "base_uri": "https://localhost:8080/"
        },
        "id": "FVYpZk3SRWm-",
        "outputId": "f56c56c1-15f5-4372-b4ac-751c2255d431"
      },
      "execution_count": 5,
      "outputs": [
        {
          "output_type": "stream",
          "name": "stdout",
          "text": [
            "How many (apple) do you want?: 3\n",
            "How many (durian) do you want?: 0\n",
            "How many (jackfruit) do you want?: 1\n",
            "How many (kiwi) do you want?: 4\n",
            "How many (rambutan) do you want?: 1\n",
            "How many (mango) do you want?: 4\n",
            "\n",
            "Your total is $110.0\n"
          ]
        }
      ]
    },
    {
      "cell_type": "markdown",
      "source": [
        "# 03_powerful_passwords"
      ],
      "metadata": {
        "id": "Tt0Nr1y5SKgP"
      }
    },
    {
      "cell_type": "code",
      "source": [
        "from hashlib import sha256\n",
        "\n",
        "def hash_password(password):\n",
        "\n",
        "    \"\"\"\n",
        "    Takes a password and returns the SHA256 hashed value.\n",
        "    \"\"\"\n",
        "\n",
        "    return sha256(password.encode()).hexdigest()\n",
        "\n",
        "\n",
        "def login(email, stored_logins, password_to_check):\n",
        "\n",
        "    \"\"\"\n",
        "    Returns True if the hashed password matches the stored one.\n",
        "    \"\"\"\n",
        "\n",
        "    return stored_logins.get(email) == hash_password(password_to_check)\n",
        "\n",
        "\n",
        "def main():\n",
        "\n",
        "    # Dictionary: email → hashed password\n",
        "    stored_logins = {\n",
        "        \"example@gmail.com\": \"5e884898da28047151d0e56f8dc6292773603d0d6aabbdd62a11ef721d1542d8\",\n",
        "        \"code_in_placer@cip.org\": \"973607a4ae7b4cf7d96a100b0fb07e8519cc4f70441d41214a9f811577bb06cc\",\n",
        "        \"student@stanford.edu\": \"882c6df720fd99f5eebb1581a1cf975625cea8a160283011c0b9512bb56c95fb\"\n",
        "    }\n",
        "\n",
        "    # Test Cases to check\n",
        "    print(login(\"example@gmail.com\", stored_logins, \"word\"))         # False\n",
        "    print(login(\"example@gmail.com\", stored_logins, \"password\"))     # True\n",
        "\n",
        "    print(login(\"code_in_placer@cip.org\", stored_logins, \"Karel\"))   # True\n",
        "    print(login(\"code_in_placer@cip.org\", stored_logins, \"karel\"))   # False\n",
        "\n",
        "    print(login(\"student@stanford.edu\", stored_logins, \"password\"))  # True\n",
        "    print(login(\"student@stanford.edu\", stored_logins, \"123!456?789\"))  # False\n",
        "\n",
        "\n",
        "if __name__ == '__main__':\n",
        "    main()\n"
      ],
      "metadata": {
        "colab": {
          "base_uri": "https://localhost:8080/"
        },
        "id": "OZW60xmRSUxv",
        "outputId": "3cb63e4e-fdfa-4571-e0cb-fd0689b7aba3"
      },
      "execution_count": 7,
      "outputs": [
        {
          "output_type": "stream",
          "name": "stdout",
          "text": [
            "False\n",
            "True\n",
            "False\n",
            "True\n",
            "False\n",
            "True\n"
          ]
        }
      ]
    }
  ]
}