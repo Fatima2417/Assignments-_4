{
  "nbformat": 4,
  "nbformat_minor": 0,
  "metadata": {
    "colab": {
      "provenance": [],
      "authorship_tag": "ABX9TyMnxc6k8ZTHYUMvWK7seWjn",
      "include_colab_link": true
    },
    "kernelspec": {
      "name": "python3",
      "display_name": "Python 3"
    },
    "language_info": {
      "name": "python"
    }
  },
  "cells": [
    {
      "cell_type": "markdown",
      "metadata": {
        "id": "view-in-github",
        "colab_type": "text"
      },
      "source": [
        "<a href=\"https://colab.research.google.com/github/Fatima2417/Assignments-_4/blob/main/Binary_Search_Python_Project.ipynb\" target=\"_parent\"><img src=\"https://colab.research.google.com/assets/colab-badge.svg\" alt=\"Open In Colab\"/></a>"
      ]
    },
    {
      "cell_type": "code",
      "execution_count": 4,
      "metadata": {
        "colab": {
          "base_uri": "https://localhost:8080/"
        },
        "id": "pULLZTo5REk2",
        "outputId": "9cc48dad-e11a-4cac-a6e7-134491d7af8f"
      },
      "outputs": [
        {
          "output_type": "stream",
          "name": "stdout",
          "text": [
            "Welcome to Fatima's Binary Search Game!\n",
            "Enter the number you want to search for: 13\n",
            "Number 13 is present at index 6.\n"
          ]
        }
      ],
      "source": [
        "# Binary Search Algorithm in Python\n",
        "\n",
        "# Function to perform the binary search\n",
        "def binary_search(arr, target):\n",
        "\n",
        "    left = 0\n",
        "    right = len(arr) - 1\n",
        "\n",
        "    while left <= right:\n",
        "        mid = (left + right) // 2  # to find the middle index\n",
        "\n",
        "\n",
        "        # Check if target is present at mid\n",
        "        if arr[mid] == target:\n",
        "            return mid\n",
        "\n",
        "        # if target is smaller then ignore the right half\n",
        "        elif arr[mid] > target:\n",
        "            right = mid - 1\n",
        "\n",
        "        # If target is larger then ignore the left half\n",
        "        else:\n",
        "            left = mid + 1\n",
        "\n",
        "    # If target is not found\n",
        "    return -1\n",
        "\n",
        "# main and starting part of the code\n",
        "def main():\n",
        "    print(\"Welcome to Fatima's Binary Search Game!\")\n",
        "\n",
        "    # Sample sorted list  'it must be sorted for binary search'\n",
        "    arr = [1, 3, 5, 7, 9, 11, 13, 15, 17, 19, 21]\n",
        "    target = int(input(\"Enter the number you want to search for: \"))\n",
        "\n",
        "    # perform binary search\n",
        "    result = binary_search(arr, target)\n",
        "\n",
        "    if result != -1:\n",
        "        print(f\"Number {target} is present at index {result}.\")\n",
        "    else:\n",
        "        print(f\"Number {target} is not found in the list.\")\n",
        "\n",
        "# Run the main function\n",
        "main()\n"
      ]
    }
  ]
}