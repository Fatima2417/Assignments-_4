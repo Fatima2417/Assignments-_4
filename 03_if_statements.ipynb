{
  "nbformat": 4,
  "nbformat_minor": 0,
  "metadata": {
    "colab": {
      "provenance": [],
      "authorship_tag": "ABX9TyOCltXPq9ptlVYQPvgCPn5c",
      "include_colab_link": true
    },
    "kernelspec": {
      "name": "python3",
      "display_name": "Python 3"
    },
    "language_info": {
      "name": "python"
    }
  },
  "cells": [
    {
      "cell_type": "markdown",
      "metadata": {
        "id": "view-in-github",
        "colab_type": "text"
      },
      "source": [
        "<a href=\"https://colab.research.google.com/github/Fatima2417/Assignments-_4/blob/main/03_if_statements.ipynb\" target=\"_parent\"><img src=\"https://colab.research.google.com/assets/colab-badge.svg\" alt=\"Open In Colab\"/></a>"
      ]
    },
    {
      "cell_type": "markdown",
      "source": [
        "# 01_print_events"
      ],
      "metadata": {
        "id": "jlOCVRzm_0Ah"
      }
    },
    {
      "cell_type": "code",
      "source": [
        "def main():\n",
        "    # Loop to print first 20 even numbers\n",
        "    for i in range(20):\n",
        "        print(i * 2)  # Multiply index by 2 to get even numbers\n",
        "\n",
        "if __name__ == \"__main__\":\n",
        "    main()\n"
      ],
      "metadata": {
        "colab": {
          "base_uri": "https://localhost:8080/"
        },
        "id": "xc7xeCaE_1vf",
        "outputId": "38effef5-2775-424f-edf0-62f21652f94d"
      },
      "execution_count": 1,
      "outputs": [
        {
          "output_type": "stream",
          "name": "stdout",
          "text": [
            "0\n",
            "2\n",
            "4\n",
            "6\n",
            "8\n",
            "10\n",
            "12\n",
            "14\n",
            "16\n",
            "18\n",
            "20\n",
            "22\n",
            "24\n",
            "26\n",
            "28\n",
            "30\n",
            "32\n",
            "34\n",
            "36\n",
            "38\n"
          ]
        }
      ]
    },
    {
      "cell_type": "markdown",
      "source": [
        "# 02_international_voting_age"
      ],
      "metadata": {
        "id": "x7TkSj8JAIa7"
      }
    },
    {
      "cell_type": "code",
      "source": [
        "# Voting ages in the fictional the countries\n",
        "\n",
        "PETURKSBOUIPO_AGE = 16\n",
        "\n",
        "STANLAU_AGE = 25\n",
        "\n",
        "MAYENGUA_AGE = 48\n",
        "\n",
        "def main():\n",
        "    # Gets user's age\n",
        "    user_age = int(input(\"How old are you? \"))\n",
        "\n",
        "    # Check voting eligibility in Peturksbouipo\n",
        "    if user_age >= PETURKSBOUIPO_AGE:\n",
        "        print(f\"You can vote in Peturksbouipo where the voting age is {PETURKSBOUIPO_AGE}.\")\n",
        "\n",
        "    else:\n",
        "        print(f\"You cannot vote in Peturksbouipo where the voting age is {PETURKSBOUIPO_AGE}.\")\n",
        "\n",
        "    # Check voting eligibility in Stanlau\n",
        "    if user_age >= STANLAU_AGE:\n",
        "        print(f\"You can vote in Stanlau where the voting age is {STANLAU_AGE}.\")\n",
        "\n",
        "    else:\n",
        "        print(f\"You cannot vote in Stanlau where the voting age is {STANLAU_AGE}.\")\n",
        "\n",
        "    # Check voting eligibility in Mayengua\n",
        "    if user_age >= MAYENGUA_AGE:\n",
        "        print(f\"You can vote in Mayengua where the voting age is {MAYENGUA_AGE}.\")\n",
        "\n",
        "    else:\n",
        "        print(f\"You cannot vote in Mayengua where the voting age is {MAYENGUA_AGE}.\")\n",
        "\n",
        "if __name__ == '__main__':\n",
        "    main()\n"
      ],
      "metadata": {
        "colab": {
          "base_uri": "https://localhost:8080/"
        },
        "id": "nodvoMy3AP6l",
        "outputId": "94329b5a-bf4b-47d6-e50a-69dc088b6ee2"
      },
      "execution_count": 2,
      "outputs": [
        {
          "output_type": "stream",
          "name": "stdout",
          "text": [
            "How old are you? 16\n",
            "You can vote in Peturksbouipo where the voting age is 16.\n",
            "You cannot vote in Stanlau where the voting age is 25.\n",
            "You cannot vote in Mayengua where the voting age is 48.\n"
          ]
        }
      ]
    },
    {
      "cell_type": "markdown",
      "source": [
        "# 03_leap_year"
      ],
      "metadata": {
        "id": "Y1ErfvANAaoz"
      }
    },
    {
      "cell_type": "code",
      "source": [
        "def main():\n",
        "    # Get the year input from the user\n",
        "    year = int(input('Please input a year: '))\n",
        "\n",
        "    # Check for leap year based on the rules\n",
        "    if year % 4 == 0:  # Year is divisible by 4\n",
        "        if year % 100 == 0:  # Year is divisible by 100\n",
        "            if year % 400 == 0:  # Year is divisible by 400\n",
        "                print(\"That's a leap year!\")\n",
        "            else:\n",
        "                print(\"That's not a leap year.\")\n",
        "        else:\n",
        "            print(\"That's a leap year!\")\n",
        "    else:\n",
        "        print(\"That's not a leap year.\")\n",
        "\n",
        "# Calling the main function\n",
        "if __name__ == '__main__':\n",
        "    main()\n",
        "\n"
      ],
      "metadata": {
        "colab": {
          "base_uri": "https://localhost:8080/"
        },
        "id": "NZZoMrKLBBJJ",
        "outputId": "35b4f28d-d6ae-4901-84a5-d62ae12de17f"
      },
      "execution_count": 3,
      "outputs": [
        {
          "output_type": "stream",
          "name": "stdout",
          "text": [
            "Please input a year: 2009\n",
            "That's not a leap year.\n"
          ]
        }
      ]
    },
    {
      "cell_type": "markdown",
      "source": [
        "# 04_tall_enough_to_ride"
      ],
      "metadata": {
        "id": "am59ZyTxBdtE"
      }
    },
    {
      "cell_type": "code",
      "source": [
        "MINIMUM_HEIGHT: int = 50  # Minimum height required to ride\n",
        "\n",
        "def main():\n",
        "    # Ask user for their height\n",
        "    height = float(input(\"How tall are you? \"))\n",
        "\n",
        "    # Check if they meet the minimum height\n",
        "    if height >= MINIMUM_HEIGHT:\n",
        "        print(\"You're tall enough to ride!\")\n",
        "    else:\n",
        "        print(\"You're not tall enough to ride, but maybe next year!\")\n",
        "\n",
        "# Calls the main function\n",
        "if __name__ == '__main__':\n",
        "    main()\n"
      ],
      "metadata": {
        "colab": {
          "base_uri": "https://localhost:8080/"
        },
        "id": "CzGYTdf0B9Ze",
        "outputId": "5c5e0d0e-9d68-4a18-cf9d-d0e9872e294d"
      },
      "execution_count": 4,
      "outputs": [
        {
          "output_type": "stream",
          "name": "stdout",
          "text": [
            "How tall are you? 6\n",
            "You're not tall enough to ride, but maybe next year!\n"
          ]
        }
      ]
    },
    {
      "cell_type": "markdown",
      "source": [
        "# 05_random_numbers"
      ],
      "metadata": {
        "id": "VPpnF_0-Chw8"
      }
    },
    {
      "cell_type": "code",
      "source": [
        "import random  # Import random module to generate random numbers\n",
        "\n",
        "# Constants for how many numbers and the range\n",
        "N_NUMBERS: int = 10\n",
        "MIN_VALUE: int = 1\n",
        "MAX_VALUE: int = 100\n",
        "\n",
        "def main():\n",
        "    for _ in range(N_NUMBERS):\n",
        "        # random number between 1 and 100\n",
        "        print(random.randint(MIN_VALUE, MAX_VALUE), end=\" \")\n",
        "\n",
        "# Call the main function\n",
        "if __name__ == '__main__':\n",
        "    main()\n"
      ],
      "metadata": {
        "colab": {
          "base_uri": "https://localhost:8080/"
        },
        "id": "ZE9CjLjtCq7C",
        "outputId": "d6898ccb-75a3-4495-803c-61752fc77322"
      },
      "execution_count": 5,
      "outputs": [
        {
          "output_type": "stream",
          "name": "stdout",
          "text": [
            "75 96 17 40 79 55 9 22 72 11 "
          ]
        }
      ]
    }
  ]
}