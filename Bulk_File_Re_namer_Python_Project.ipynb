{
  "nbformat": 4,
  "nbformat_minor": 0,
  "metadata": {
    "colab": {
      "provenance": [],
      "authorship_tag": "ABX9TyNtmM+KYz6EI3QjpCLBFQGd",
      "include_colab_link": true
    },
    "kernelspec": {
      "name": "python3",
      "display_name": "Python 3"
    },
    "language_info": {
      "name": "python"
    }
  },
  "cells": [
    {
      "cell_type": "markdown",
      "metadata": {
        "id": "view-in-github",
        "colab_type": "text"
      },
      "source": [
        "<a href=\"https://colab.research.google.com/github/Fatima2417/Assignments-_4/blob/main/Bulk_File_Re_namer_Python_Project.ipynb\" target=\"_parent\"><img src=\"https://colab.research.google.com/assets/colab-badge.svg\" alt=\"Open In Colab\"/></a>"
      ]
    },
    {
      "cell_type": "code",
      "execution_count": 5,
      "metadata": {
        "colab": {
          "base_uri": "https://localhost:8080/"
        },
        "id": "_aCPtQUiUdO2",
        "outputId": "71094157-49dd-4dae-8126-b1d9edb8e6a6"
      },
      "outputs": [
        {
          "output_type": "stream",
          "name": "stdout",
          "text": [
            "📂 Welcome to Fatima's Bulk File Renamer!\n",
            "\n",
            "Enter full folder path: /content/sample_data\n",
            "Enter new base name for files: imp_data\n",
            "Renamed: anscombe.json → imp_data1.json\n",
            "Renamed: README.md → imp_data2.md\n",
            "Renamed: mnist_train_small.csv → imp_data3.csv\n",
            "Renamed: mnist_test.csv → imp_data4.csv\n",
            "Renamed: california_housing_train.csv → imp_data5.csv\n",
            "Renamed: california_housing_test.csv → imp_data6.csv\n",
            "\n",
            "Yayy! 🎉 All files renamed successfully!\n"
          ]
        }
      ],
      "source": [
        "# Bulk File Renamer by Fatima  to reaname a bulk of files in 2 steps\n",
        "\n",
        "import os  # we need this module to work with folders and files\n",
        "\n",
        "# this function will rename all files in the given folder\n",
        "def bulk_rename(folder_path, new_base_name):\n",
        "\n",
        "    # trying to get list of files from the folder\n",
        "    try:\n",
        "        file_list = os.listdir(folder_path)  # list of all files in the folder\n",
        "    except FileNotFoundError:\n",
        "        print(\"Oops! Folder not found 😬 Check the path again pleasee.\")\n",
        "        return  # exit the function if folder doesn't exist\n",
        "\n",
        "\n",
        "    count = 1  # we’ll start numbering files from 1\n",
        "\n",
        "\n",
        "    for filename in file_list:\n",
        "        old_file_path = os.path.join(folder_path, filename)  # old full path\n",
        "\n",
        "        # ignore folders, we only want to rename files\n",
        "        if not os.path.isfile(old_file_path):\n",
        "            continue\n",
        "\n",
        "        # get file extension like .png, .txt etc.\n",
        "        _, extension = os.path.splitext(filename)\n",
        "\n",
        "\n",
        "        # new file name will be something like \"newname1.jpg\"\n",
        "        new_filename = f\"{new_base_name}{count}{extension}\"\n",
        "        new_file_path = os.path.join(folder_path, new_filename)\n",
        "\n",
        "        # rename the file\n",
        "        os.rename(old_file_path, new_file_path)\n",
        "\n",
        "        print(f\"Renamed: {filename} → {new_filename}\")\n",
        "        count += 1  # go to next number\n",
        "\n",
        "    print(\"\\nYayyyy! 🎉 All files renamed successfully!!!\")\n",
        "\n",
        "# main part of the program\n",
        "def main():\n",
        "    print(\"📂 Welcome to Fatima's Bulk File Renamer!\\n\")\n",
        "\n",
        "    # asking user for folder path and new base name\n",
        "    folder = input(\"Enter full folder path: \").strip()\n",
        "    new_name = input(\"Enter new base name for files: \").strip()\n",
        "\n",
        "    # call the renaming function\n",
        "    bulk_rename(folder, new_name)\n",
        "\n",
        "\n",
        "# run the main function\n",
        "if __name__ == \"__main__\":\n",
        "    main()\n"
      ]
    }
  ]
}